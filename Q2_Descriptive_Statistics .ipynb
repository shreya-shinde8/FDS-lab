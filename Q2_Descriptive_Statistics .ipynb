{
 "cells": [
  {
   "cell_type": "markdown",
   "metadata": {
    "id": "Gf-rcpRB3Wgu"
   },
   "source": [
    "# **Descriptive Statistics**"
   ]
  },
  {
   "cell_type": "markdown",
   "metadata": {
    "id": "dNB5cBBOQ6RH"
   },
   "source": [
    "* Descriptive Statistics - A descriptive statistic is a summary statistic that quantitatively describes or summarizes features from a collection of information, while descriptive statistics is the process of using and analysing those statistics.\n",
    "\n"
   ]
  },
  {
   "cell_type": "markdown",
   "metadata": {
    "id": "g4Wf5OC5Hjqv"
   },
   "source": [
    "\n",
    "\n",
    "\n",
    "---\n",
    "\n",
    "---\n",
    "\n",
    "---\n",
    "\n",
    "\n",
    "#Dataset Example - 1\n",
    "\n",
    "\n",
    "---\n",
    "\n",
    "\n"
   ]
  },
  {
   "cell_type": "code",
   "execution_count": null,
   "metadata": {
    "id": "7v6UbxeZlaln"
   },
   "outputs": [],
   "source": [
    "# importing required libraries\n",
    "\n",
    "import pandas as pd \n",
    "import numpy as np\n",
    "import matplotlib.pyplot as plt\n",
    "import seaborn as sns\n",
    "from scipy.stats import skew\n",
    "from scipy.stats import kurtosis\n"
   ]
  },
  {
   "cell_type": "code",
   "execution_count": null,
   "metadata": {
    "id": "SXGhbP7Q3u-m"
   },
   "outputs": [],
   "source": [
    "pd.set_option(\"display.max_columns\",None)  # to display all the columns\n",
    "pd.options.display.float_format = \"{:,.2f}\".format # to display float value upto two decimals"
   ]
  },
  {
   "cell_type": "markdown",
   "metadata": {
    "id": "xEzNOppIwj7L"
   },
   "source": [
    "\n",
    "\n",
    "\n",
    "\n",
    "\n",
    "\n",
    "\n",
    "\n",
    "\n",
    "\n",
    "\n",
    "\n",
    "\n"
   ]
  },
  {
   "cell_type": "code",
   "execution_count": null,
   "metadata": {
    "id": "LbMJ02TYst1K"
   },
   "outputs": [],
   "source": [
    "# reading data from csv file \n",
    "xls = pd.read_csv('drive/MyDrive/datasets/diamonds.csv')"
   ]
  },
  {
   "cell_type": "markdown",
   "metadata": {
    "id": "3fCdJi4NLXb7"
   },
   "source": [
    "Measures of Central Tendency\n",
    "* Mean - The sum of a collection of numbers divided by the count of numbers in the collection.\n",
    "* Median - The median is the value separating the higher half from the lower half of a data sample, a population, or a probability distribution.\n",
    "* Mode - The mode is the value that appears most often in a set of data values."
   ]
  },
  {
   "cell_type": "code",
   "execution_count": null,
   "metadata": {
    "id": "qeupR7fTvG0p"
   },
   "outputs": [],
   "source": [
    "des_df = xls.drop(['id'],axis = 1) # drop id column\n",
    "for col in des_df:   # drop all alpha-numeric columns\n",
    "  if des_df[col].dtype == 'object':\n",
    "    des_df = des_df.drop([col], axis = 1)\n",
    "\n",
    "des_r = des_df.describe() # describe() gives us mean,min,max,median,1Q,3Q,std\n",
    "des_r = des_r.rename(index={'50%':'median/50%'}) "
   ]
  },
  {
   "cell_type": "markdown",
   "metadata": {
    "id": "5VIfOXq8M2OU"
   },
   "source": [
    "Measures of Dispersion\n",
    "* Standard Deviation - The standard deviation is a measure of the amount of variation or dispersion of a set of values.\n",
    "* Variance - The term variance refers to a statistical measurement of the spread between numbers in a data set.\n",
    "* Min and Max Variables\n",
    "  * Min is the minimum value in the column or in dataset.\n",
    "  * Max is the maximum value in the column or in dataset.\n",
    "\n",
    "Quartiles -  A quartile is a type of quantile which divides the number of data points into four parts, or quarters, of more-or-less equal size.\n",
    "* 25% or 1st quartile - The first quartile (Q1) is defined as the middle number between the smallest number (minimum) and the median of the data set. It is also known as the lower or 25th empirical quartile, as 25% of the data is below this point.\n",
    "* 50% or 2nd quartile - The second quartile (Q2) is the median of a data set; thus 50% of the data lies below this point.\n",
    "* 75% or 3rd quartile - The third quartile (Q3) is the middle value between the median and the highest value (maximum) of the data set. It is known as the upper or 75th empirical quartile, as 75% of the data lies below this point."
   ]
  },
  {
   "cell_type": "code",
   "execution_count": null,
   "metadata": {
    "id": "6PRKrZdB7WDW"
   },
   "outputs": [],
   "source": [
    "var_r = des_df.var() # calulating variance seperately\n",
    "\n",
    "varlist = []\n",
    "for col in des_df.columns: # converting result of var() from series to list\n",
    "  if df[col].dtype == 'object':\n",
    "    continue\n",
    "  varlist.append(round(df[col],5))\n",
    "\n",
    "df = pd.DataFrame([varlist],columns=des_r.columns, index=['var']) # putting results of variance into dataframe\n",
    "mct = des_r.append(df) # adding var to describe result"
   ]
  },
  {
   "cell_type": "code",
   "execution_count": null,
   "metadata": {
    "id": "tx2SqGwO7kTB"
   },
   "outputs": [],
   "source": [
    "mode_r = des_df.mode() # calculating mode seperately\n",
    "mode_r = mode_r.rename(index={0:'mode'}) # renaming index\n",
    "mct_m = mct.append(mode_r) # adding mode to describe result"
   ]
  },
  {
   "cell_type": "markdown",
   "metadata": {
    "id": "yDBOfeWsMh3H"
   },
   "source": [
    "Skewness and Kurtosis\n",
    "* Skewness is a measure of the symmetry of a distribution. The highest point of a distribution is its mode.\n",
    "* Kurtosis is a statistical measure that defines how heavily the tails of a distribution differ from the tails of a normal distribution."
   ]
  },
  {
   "cell_type": "code",
   "execution_count": null,
   "metadata": {
    "id": "MzOeqrSn77Yh"
   },
   "outputs": [],
   "source": [
    "skew_r = skew(des_df) # skewness resultant list\n",
    "df = pd.DataFrame([skew_r],columns=des_df.columns, index=['skewness']) # converting list to dataframe\n",
    "mct_s = mct_m.append(df) # adding skewness to describe dataframe\n",
    "\n",
    "kur_r = kurtosis(des_df) # kurtosis resultant list\n",
    "df = pd.DataFrame([kur_r],columns=des_df.columns, index=['kurtosis']) # converting list to dataframe\n",
    "mct_k = mct_s.append(df) # adding kurtosis to describe dataframe"
   ]
  },
  {
   "cell_type": "markdown",
   "metadata": {
    "id": "5s-64GHkOpYW"
   },
   "source": [
    "Range - It is difference between largest and smallest value."
   ]
  },
  {
   "cell_type": "code",
   "execution_count": null,
   "metadata": {
    "id": "y0NWpJkoDmzv"
   },
   "outputs": [],
   "source": [
    "r_list = []\n",
    "for col in des_df.columns.to_list(): # calculating range for all columns\n",
    "  r_list.append(des_df[col].max()-des_df[col].min())\n",
    "\n",
    "df = pd.DataFrame([r_list],columns=des_df.columns, index=['range']) # converting range list to dataframe\n",
    "mct_r = mct_k.append(df) # adding range to describe dataframe"
   ]
  },
  {
   "cell_type": "code",
   "execution_count": null,
   "metadata": {
    "colab": {
     "base_uri": "https://localhost:8080/"
    },
    "id": "Glgvrx51Iw_d",
    "outputId": "cce0ee70-3bbe-42b0-c7cd-a9d9d8e8664b"
   },
   "outputs": [
    {
     "name": "stdout",
     "output_type": "stream",
     "text": [
      "               carat     depth     table         price         x         y  \\\n",
      "count      53,938.00 53,940.00 53,940.00     53,936.00 53,940.00 53,940.00   \n",
      "mean            0.80     61.75     57.46      3,932.83      5.73      5.73   \n",
      "std             0.47      1.43      2.23      3,989.44      1.12      1.14   \n",
      "min             0.20     43.00     43.00        326.00      0.00      0.00   \n",
      "25%             0.40     61.00     56.00        950.00      4.71      4.72   \n",
      "median/50%      0.70     61.80     57.00      2,401.00      5.70      5.71   \n",
      "75%             1.04     62.50     59.00      5,324.25      6.54      6.54   \n",
      "max             5.01     79.00     95.00     18,823.00     10.74     58.90   \n",
      "var             0.22      2.05      4.99 15,915,659.88      1.26      1.30   \n",
      "mode            0.30     62.00     56.00        605.00      4.37      4.34   \n",
      "skewness         nan     -0.08      0.80           nan      0.38      2.43   \n",
      "kurtosis         nan      5.74      2.80           nan     -0.62     91.21   \n",
      "range           4.81     36.00     52.00     18,497.00     10.74     58.90   \n",
      "\n",
      "                   z  \n",
      "count      53,940.00  \n",
      "mean            3.54  \n",
      "std             0.71  \n",
      "min             0.00  \n",
      "25%             2.91  \n",
      "median/50%      3.53  \n",
      "75%             4.04  \n",
      "max            31.80  \n",
      "var             0.50  \n",
      "mode            2.70  \n",
      "skewness        1.52  \n",
      "kurtosis       47.08  \n",
      "range          31.80  \n"
     ]
    }
   ],
   "source": [
    "print(mct_r) # print final dataframe"
   ]
  },
  {
   "cell_type": "markdown",
   "metadata": {
    "id": "bj4J2sBVO1Kp"
   },
   "source": [
    "Box Plots - A box and whisker plot (sometimes called a boxplot) is a graph that presents information from a five-number summary.\n",
    "* Lowest observation\n",
    "* Highest observation\n",
    "* Lower Quartile\n",
    "* Upper Quartile\n",
    "* Median"
   ]
  },
  {
   "cell_type": "code",
   "execution_count": null,
   "metadata": {
    "colab": {
     "base_uri": "https://localhost:8080/",
     "height": 1000
    },
    "id": "H_skBosWIxhR",
    "outputId": "8ed76330-a8e1-4ae9-8bec-d9a959b49b19"
   },
   "outputs": [
    {
     "data": {
      "image/png": "[encoded data removed]",
      "text/plain": [
       "<Figure size 432x288 with 1 Axes>"
      ]
     },
     "metadata": {
      "needs_background": "light",
      "tags": []
     },
     "output_type": "display_data"
    },
    {
     "data": {
      "image/png": "[encoded data removed]",
      "text/plain": [
       "<Figure size 432x288 with 1 Axes>"
      ]
     },
     "metadata": {
      "needs_background": "light",
      "tags": []
     },
     "output_type": "display_data"
    },
    {
     "data": {
      "image/png": "[encoded data removed]",
      "text/plain": [
       "<Figure size 432x288 with 1 Axes>"
      ]
     },
     "metadata": {
      "needs_background": "light",
      "tags": []
     },
     "output_type": "display_data"
    },
    {
     "data": {
      "image/png": "[encoded data removed]",
      "text/plain": [
       "<Figure size 432x288 with 1 Axes>"
      ]
     },
     "metadata": {
      "needs_background": "light",
      "tags": []
     },
     "output_type": "display_data"
    },
    {
     "data": {
      "image/png": "[encoded data removed]",
      "text/plain": [
       "<Figure size 432x288 with 1 Axes>"
      ]
     },
     "metadata": {
      "needs_background": "light",
      "tags": []
     },
     "output_type": "display_data"
    },
    {
     "data": {
      "image/png": "[encoded data removed]",
      "text/plain": [
       "<Figure size 432x288 with 1 Axes>"
      ]
     },
     "metadata": {
      "needs_background": "light",
      "tags": []
     },
     "output_type": "display_data"
    },
    {
     "data": {
      "image/png": "[encoded data removed]",
      "text/plain": [
       "<Figure size 432x288 with 1 Axes>"
      ]
     },
     "metadata": {
      "needs_background": "light",
      "tags": []
     },
     "output_type": "display_data"
    }
   ],
   "source": [
    "# plotting boxplots\n",
    "colNames = xls.columns.tolist() # make a list of columns present in dataframes\n",
    "for colName in colNames:\n",
    "    if xls[colName].dtype == \"object\" or colName == 'id': # skip Id and string columns\n",
    "        continue\n",
    "    plt.figure()\n",
    "    sns.boxplot(y=xls[colName], color='g') # plot the boxplot\n",
    "    plt.title(colName) # provide title\n",
    "    plt.ylabel(colName) # name Y axis\n",
    "    plt.xlabel('Bins') # name X axis\n",
    "    plt.show()"
   ]
  },
  {
   "cell_type": "markdown",
   "metadata": {
    "id": "Q9CCDq81KmNh"
   },
   "source": [
    "\n",
    "\n",
    "---\n",
    "\n",
    "---\n",
    "\n",
    "---\n",
    "\n",
    "\n",
    "\n",
    "\n",
    "\n"
   ]
  },
  {
   "cell_type": "markdown",
   "metadata": {
    "id": "SumuAxd7Ksiu"
   },
   "source": [
    "\n",
    "\n",
    "\n",
    "\n",
    "#Dataset Example - 2\n",
    "\n",
    "\n",
    "---\n",
    "\n",
    "\n"
   ]
  },
  {
   "cell_type": "markdown",
   "metadata": {
    "id": "PdCtFsGfDBgZ"
   },
   "source": [
    "\n",
    "**Importing Libraries**\n",
    "\n",
    "    * Pandas for reading data file\n",
    "    * Numpy for performing statistical calculations\n",
    "    * Matplotlib and seaborn for visualization\n",
    "    * Scipy.stats for Skewness and Kurtosis\n",
    "\n",
    "\n",
    "\n"
   ]
  },
  {
   "cell_type": "code",
   "execution_count": null,
   "metadata": {
    "id": "Imc1_PEEDJON"
   },
   "outputs": [],
   "source": [
    "import pandas as pd \n",
    "import numpy as np\n",
    "import matplotlib.pyplot as plt\n",
    "import seaborn as sb\n",
    "from scipy.stats import skew\n",
    "from scipy.stats import kurtosis"
   ]
  },
  {
   "cell_type": "markdown",
   "metadata": {
    "id": "jM-k6H1tDk1l"
   },
   "source": [
    "***To see all the columns which are present in the dataset***"
   ]
  },
  {
   "cell_type": "code",
   "execution_count": null,
   "metadata": {
    "id": "bJDFbUxmDm4v"
   },
   "outputs": [],
   "source": [
    "pd.set_option(\"display.max_columns\",None)#To see all the columns which are present in the dataset"
   ]
  },
  {
   "cell_type": "markdown",
   "metadata": {
    "id": "E1pEvK08DwQZ"
   },
   "source": [
    "***#Mounting Google Drive***"
   ]
  },
  {
   "cell_type": "code",
   "execution_count": null,
   "metadata": {
    "colab": {
     "base_uri": "https://localhost:8080/"
    },
    "id": "EiKd3v2iDx_b",
    "outputId": "cd3872e3-f868-4f2f-9b57-686e8bd55850"
   },
   "outputs": [
    {
     "name": "stdout",
     "output_type": "stream",
     "text": [
      "/\n",
      "Mounted at /content/gdrive\n"
     ]
    }
   ],
   "source": [
    "%cd ..\n",
    "from google.colab import drive\n",
    "drive.mount('/content/gdrive')"
   ]
  },
  {
   "cell_type": "markdown",
   "metadata": {
    "id": "sdNFnHBNVz-D"
   },
   "source": [
    "***Unzip the dataset.zip.***"
   ]
  },
  {
   "cell_type": "code",
   "execution_count": null,
   "metadata": {
    "colab": {
     "base_uri": "https://localhost:8080/"
    },
    "id": "lnRbsipXSGe_",
    "outputId": "fc6331ca-6fa5-4dbd-fa51-9d57a9eb6411"
   },
   "outputs": [
    {
     "name": "stdout",
     "output_type": "stream",
     "text": [
      "Archive:  /content/gdrive/MyDrive/dataset.zip\n",
      "replace dataset.xlsx? [y]es, [n]o, [A]ll, [N]one, [r]ename: y\n",
      "  inflating: dataset.xlsx            \n"
     ]
    }
   ],
   "source": [
    "!unzip /content/gdrive/MyDrive/dataset.zip\n"
   ]
  },
  {
   "cell_type": "markdown",
   "metadata": {
    "id": "bYfJI1HiU9yW"
   },
   "source": [
    "\n",
    "**Reading dataset**\n",
    "\n",
    "    df is dataframe .\n",
    "    pd.read_excel reads the excel file.\n",
    "    head Function prints the first five rows of the dataset. *italicized text*\n",
    "\n",
    "**Description of data**\n",
    "\n",
    "    Data belongs to student category which contains fname , age and gender column.\n",
    "    Fname contins the name of students, age column contains the age of the students and grade column contains the marks obtained. *italicized text*\n",
    "\n"
   ]
  },
  {
   "cell_type": "code",
   "execution_count": null,
   "metadata": {
    "colab": {
     "base_uri": "https://localhost:8080/",
     "height": 206
    },
    "id": "eox4G-EgSO5d",
    "outputId": "ec616bde-1d26-4d9c-b3c6-5f065ec2544d"
   },
   "outputs": [
    {
     "data": {
      "text/html": [
       "<div>\n",
       "<style scoped>\n",
       "    .dataframe tbody tr th:only-of-type {\n",
       "        vertical-align: middle;\n",
       "    }\n",
       "\n",
       "    .dataframe tbody tr th {\n",
       "        vertical-align: top;\n",
       "    }\n",
       "\n",
       "    .dataframe thead th {\n",
       "        text-align: right;\n",
       "    }\n",
       "</style>\n",
       "<table border=\"1\" class=\"dataframe\">\n",
       "  <thead>\n",
       "    <tr style=\"text-align: right;\">\n",
       "      <th></th>\n",
       "      <th>name</th>\n",
       "      <th>age</th>\n",
       "      <th>grade</th>\n",
       "    </tr>\n",
       "  </thead>\n",
       "  <tbody>\n",
       "    <tr>\n",
       "      <th>0</th>\n",
       "      <td>satish</td>\n",
       "      <td>22</td>\n",
       "      <td>90</td>\n",
       "    </tr>\n",
       "    <tr>\n",
       "      <th>1</th>\n",
       "      <td>ashish</td>\n",
       "      <td>21</td>\n",
       "      <td>70</td>\n",
       "    </tr>\n",
       "    <tr>\n",
       "      <th>2</th>\n",
       "      <td>vishal</td>\n",
       "      <td>22</td>\n",
       "      <td>69</td>\n",
       "    </tr>\n",
       "    <tr>\n",
       "      <th>3</th>\n",
       "      <td>manisha</td>\n",
       "      <td>22</td>\n",
       "      <td>45</td>\n",
       "    </tr>\n",
       "    <tr>\n",
       "      <th>4</th>\n",
       "      <td>neha</td>\n",
       "      <td>20</td>\n",
       "      <td>50</td>\n",
       "    </tr>\n",
       "  </tbody>\n",
       "</table>\n",
       "</div>"
      ],
      "text/plain": [
       "      name  age  grade\n",
       "0   satish   22     90\n",
       "1   ashish   21     70\n",
       "2   vishal   22     69\n",
       "3  manisha   22     45\n",
       "4     neha   20     50"
      ]
     },
     "execution_count": 11,
     "metadata": {
      "tags": []
     },
     "output_type": "execute_result"
    }
   ],
   "source": [
    "df=pd.read_excel('/content/gdrive/MyDrive/dataset.xlsx')\n",
    "df.head()"
   ]
  },
  {
   "cell_type": "markdown",
   "metadata": {
    "id": "hJqteuNCTaX6"
   },
   "source": [
    "\n",
    "**Measures of Central Tendency**\n",
    "\n",
    "    Mean\n",
    "        The sum of a collection of numbers divided by the count of numbers in the collection.\n",
    "  \n",
    "    Median\n",
    "        The median is the value separating the higher half from the lower half of a data sample, a population, or a probability distribution.\n",
    "   \n",
    "    Mode\n",
    "        The mode is the value that appears most often in a set of data values.\n",
    "\n",
    "\n",
    "\n",
    "\n"
   ]
  },
  {
   "cell_type": "code",
   "execution_count": null,
   "metadata": {
    "colab": {
     "base_uri": "https://localhost:8080/"
    },
    "id": "jiMC2FFJTbgj",
    "outputId": "b59b3f02-db02-4fda-c147-7c71fa4f688e"
   },
   "outputs": [
    {
     "name": "stdout",
     "output_type": "stream",
     "text": [
      "*Mean of columns age and grade*\n",
      "age      21.4\n",
      "grade    64.8\n",
      "dtype: float64\n",
      "*Median of columns age and grade*\n",
      "age      22.0\n",
      "grade    69.0\n",
      "dtype: float64\n",
      "*Mode of columns age and grade*\n",
      "      name   age  grade\n",
      "0   ashish  22.0     45\n",
      "1  manisha   NaN     50\n",
      "2     neha   NaN     69\n",
      "3   satish   NaN     70\n",
      "4   vishal   NaN     90\n"
     ]
    }
   ],
   "source": [
    "df_mean=df.mean()\n",
    "print(\"*Mean of columns age and grade*\")\n",
    "print(df_mean)\n",
    "df_median=df.median()\n",
    "print(\"*Median of columns age and grade*\")\n",
    "print(df_median)\n",
    "df_mode=df.mode()\n",
    "print(\"*Mode of columns age and grade*\")\n",
    "print(df_mode)"
   ]
  },
  {
   "cell_type": "markdown",
   "metadata": {
    "id": "7dMh9BFtTjxH"
   },
   "source": [
    "\n",
    "**Measures of Variability**\n",
    "\n",
    "    Standard Deviation\n",
    "       The standard deviation is a measure of the amount of variation or dispersion of a set of values.\n",
    "    \n",
    "    Variance\n",
    "        The term variance refers to a statistical measurement of the spread between numbers in a data set.\n",
    "   \n",
    "    Min and Max Variables\n",
    "        Min is the minimum value in the column or in dataset.\n",
    "        Max is the maximum value in the column or in dataset.\n",
    "\n",
    "\n",
    "\n",
    "   \n",
    "\n"
   ]
  },
  {
   "cell_type": "code",
   "execution_count": null,
   "metadata": {
    "colab": {
     "base_uri": "https://localhost:8080/"
    },
    "id": "Iomc_5wtTk5F",
    "outputId": "dd40b526-c421-4597-85c3-d211483b382e"
   },
   "outputs": [
    {
     "name": "stdout",
     "output_type": "stream",
     "text": [
      "Standard deviation of columns age and grade\n",
      "age       0.894427\n",
      "grade    17.963853\n",
      "dtype: float64\n",
      "Variance of columns age and grade  \n",
      "age        0.8\n",
      "grade    322.7\n",
      "dtype: float64\n",
      "The Minimum value are\n",
      "name     ashish\n",
      "age          20\n",
      "grade        45\n",
      "dtype: object\n",
      "The Maximum value are\n",
      "name     vishal\n",
      "age          22\n",
      "grade        90\n",
      "dtype: object\n"
     ]
    }
   ],
   "source": [
    "print(\"Standard deviation of columns age and grade\")\n",
    "print(df.std())\n",
    "print(\"Variance of columns age and grade  \")\n",
    "print(df.var())\n",
    "print(\"The Minimum value are\" )\n",
    "print(df.min())\n",
    "print(\"The Maximum value are\" )\n",
    "print(df.max())"
   ]
  },
  {
   "cell_type": "markdown",
   "metadata": {
    "id": "WjSUPcY8TpH_"
   },
   "source": [
    "\n",
    "\n",
    "    Skewness and Kurtosis\n",
    "\n",
    "        Skewness is a measure of the symmetry of a distribution. The highest point of a distribution is its mode.\n",
    "        Kurtosis is a statistical measure that defines how heavily the tails of a distribution differ from the tails of a normal distribution.\n",
    "\n",
    "\n",
    "\n"
   ]
  },
  {
   "cell_type": "code",
   "execution_count": null,
   "metadata": {
    "colab": {
     "base_uri": "https://localhost:8080/"
    },
    "id": "Ua7bDCDHTtjy",
    "outputId": "4445aae0-669f-4482-9f0a-e10496c347fa"
   },
   "outputs": [
    {
     "name": "stdout",
     "output_type": "stream",
     "text": [
      "The skewness of column age is :  -0.8437499999999949\n",
      "The skewness of column grade is :  0.2513781993344489\n"
     ]
    }
   ],
   "source": [
    "age_skew=skew(df[\"age\"])\n",
    "grade_skew=skew(df[\"grade\"])\n",
    "print(\"The skewness of column age is : \",age_skew)\n",
    "print(\"The skewness of column grade is : \",grade_skew)"
   ]
  },
  {
   "cell_type": "code",
   "execution_count": null,
   "metadata": {
    "colab": {
     "base_uri": "https://localhost:8080/"
    },
    "id": "X2OxOzT2T3dQ",
    "outputId": "ff8a7fbb-5a8e-4c7b-bc15-ec76b5790dd8"
   },
   "outputs": [
    {
     "name": "stdout",
     "output_type": "stream",
     "text": [
      "The kurtosis of column age is  -0.9218750000000062\n",
      "The kurtosis of column grade is  -1.181476183530098\n"
     ]
    }
   ],
   "source": [
    "\n",
    "\n",
    "age_kurtosis=kurtosis(df[\"age\"])\n",
    "print(\"The kurtosis of column age is \",age_kurtosis)\n",
    "grade_kurtosis=kurtosis(df[\"grade\"])\n",
    "print(\"The kurtosis of column grade is \",grade_kurtosis)\n",
    "\n"
   ]
  },
  {
   "cell_type": "markdown",
   "metadata": {
    "id": "hCetXUF9UADa"
   },
   "source": [
    "\n",
    " * Range\n",
    "        The Range is the difference between the lowest and highest values.\n",
    "\n",
    "    Given that the range can easily be computed with information on the maximum and minimum value of the data set.\n",
    "\n",
    "    Users requiring only a rough indication of the data may prefer to use this indicator over more sophisticated measures of spread.\n",
    "\n"
   ]
  },
  {
   "cell_type": "code",
   "execution_count": null,
   "metadata": {
    "colab": {
     "base_uri": "https://localhost:8080/"
    },
    "id": "l_gyEzbHUEH0",
    "outputId": "91f67092-bc04-416c-91c6-1a5ec32a6183"
   },
   "outputs": [
    {
     "name": "stdout",
     "output_type": "stream",
     "text": [
      "The range of column age is : 2\n"
     ]
    }
   ],
   "source": [
    "age_range=(df[\"age\"].max())-(df[\"age\"].min())\n",
    "print(\"The range of column age is :\",age_range)"
   ]
  },
  {
   "cell_type": "code",
   "execution_count": null,
   "metadata": {
    "colab": {
     "base_uri": "https://localhost:8080/"
    },
    "id": "X7CnQzOhULmU",
    "outputId": "479b99e2-d650-487d-df7a-6237fbf3fa9f"
   },
   "outputs": [
    {
     "name": "stdout",
     "output_type": "stream",
     "text": [
      "The range of column grade is : 45\n"
     ]
    }
   ],
   "source": [
    "grade_range=(df[\"grade\"].max())-(df[\"grade\"].min())\n",
    "print(\"The range of column grade is :\",grade_range)"
   ]
  },
  {
   "cell_type": "markdown",
   "metadata": {
    "id": "Jd5XFLvgURZ_"
   },
   "source": [
    "\n",
    "\n",
    " * Percentiles/Quartiles\n",
    "        A percentile is a measure at which that percentage of the total values are the same as or below that measure. For example, 90% of the data values lie below the 90th percentile, whereas 10% of the data values lie below the 10th percentile.\n",
    "\n",
    "        Quartiles are values that divide a (part of a) data table into four groups containing an approximately equal number of observations. The total of 100% is split into four equal parts: 25%, 50%, 75% and 100%.\n",
    "\n",
    "    Percentiles are used to understand and interpret data.\n",
    "    Quartiles are used to summarize a group of numbers.\n",
    "\n"
   ]
  },
  {
   "cell_type": "code",
   "execution_count": null,
   "metadata": {
    "colab": {
     "base_uri": "https://localhost:8080/"
    },
    "id": "2mWAiDslUSnx",
    "outputId": "b13ac55b-aa65-43a9-e658-3d875d85a419"
   },
   "outputs": [
    {
     "name": "stdout",
     "output_type": "stream",
     "text": [
      "50th percentile of age column is: 22.0\n",
      "25th percentile of age column is: 21.0\n",
      "75th percentile of age column is: 22.0\n"
     ]
    }
   ],
   "source": [
    "print(\"50th percentile of age column is:\",np.percentile(df[\"age\"],50))\n",
    "print(\"25th percentile of age column is:\",np.percentile(df[\"age\"],25))\n",
    "print(\"75th percentile of age column is:\",np.percentile(df[\"age\"],75))"
   ]
  },
  {
   "cell_type": "code",
   "execution_count": null,
   "metadata": {
    "colab": {
     "base_uri": "https://localhost:8080/"
    },
    "id": "a-MIO67MUZy6",
    "outputId": "ad23b236-ed8c-4658-a01e-a297c2756e18"
   },
   "outputs": [
    {
     "name": "stdout",
     "output_type": "stream",
     "text": [
      "50th percentile of grade column is: 69.0\n",
      "25th percentile of grade column is: 50.0\n",
      "75th percentile of grade column is: 70.0\n"
     ]
    }
   ],
   "source": [
    "\n",
    "\n",
    "print(\"50th percentile of grade column is:\",np.percentile(df[\"grade\"],50))\n",
    "print(\"25th percentile of grade column is:\",np.percentile(df[\"grade\"],25))\n",
    "print(\"75th percentile of grade column is:\",np.percentile(df[\"grade\"],75))\n",
    "\n"
   ]
  },
  {
   "cell_type": "code",
   "execution_count": null,
   "metadata": {
    "colab": {
     "base_uri": "https://localhost:8080/"
    },
    "id": "Fq_lu0znUeTX",
    "outputId": "1a75d82d-a70f-4752-e998-356564a1dfdc"
   },
   "outputs": [
    {
     "name": "stdout",
     "output_type": "stream",
     "text": [
      "Q2th quantile of age column is :  22.0\n",
      "Q1th quantile of age column is :  21.0\n",
      "Q3th quantile of age column is :  22.0\n"
     ]
    }
   ],
   "source": [
    "print(\"Q2th quantile of age column is : \",np.quantile(df[\"age\"],.50))\n",
    "print(\"Q1th quantile of age column is : \",np.quantile(df[\"age\"],.25))\n",
    "print(\"Q3th quantile of age column is : \",np.quantile(df[\"age\"],.75))"
   ]
  },
  {
   "cell_type": "code",
   "execution_count": null,
   "metadata": {
    "colab": {
     "base_uri": "https://localhost:8080/"
    },
    "id": "Hcu_mO_GUihx",
    "outputId": "be2f9ea4-a307-4851-b72a-a327bc0b028e"
   },
   "outputs": [
    {
     "name": "stdout",
     "output_type": "stream",
     "text": [
      "Q2 quantile of grade column is :  69.0\n",
      "Q1th quantile of grade column is :  50.0\n",
      "Q3 quantile of grade column is :  70.0\n"
     ]
    }
   ],
   "source": [
    "print(\"Q2 quantile of grade column is : \",np.quantile(df[\"grade\"],.50))\n",
    "print(\"Q1th quantile of grade column is : \",np.quantile(df[\"grade\"],.25))\n",
    "print(\"Q3 quantile of grade column is : \",np.quantile(df[\"grade\"],.75))"
   ]
  },
  {
   "cell_type": "markdown",
   "metadata": {
    "id": "o7q4ly1_Ulx4"
   },
   "source": [
    "\n",
    "\n",
    "  * Box Plots\n",
    "        A box and whisker plot (sometimes called a boxplot) is a graph that presents information from a five-number summary.\n",
    "        Lowest observation\n",
    "        Highest observation\n",
    "        Lower Quartile\n",
    "        Upper Quartile\n",
    "        Median\n",
    "\n"
   ]
  },
  {
   "cell_type": "code",
   "execution_count": null,
   "metadata": {
    "colab": {
     "base_uri": "https://localhost:8080/",
     "height": 265
    },
    "id": "7RhUkbaUUnCz",
    "outputId": "cedbb0d0-7269-4c0f-93ae-ad6bc1d468d4"
   },
   "outputs": [
    {
     "data": {
      "image/png": "[encoded data removed]",
      "text/plain": [
       "<Figure size 432x288 with 2 Axes>"
      ]
     },
     "metadata": {
      "needs_background": "light",
      "tags": []
     },
     "output_type": "display_data"
    }
   ],
   "source": [
    "plt.figure()\n",
    "plt.subplot(1,2,1)\n",
    "df.boxplot(column=\"age\")\n",
    "plt.subplot(1,2,2)\n",
    "df.boxplot(column=\"grade\")\n",
    "plt.show()"
   ]
  },
  {
   "cell_type": "markdown",
   "metadata": {
    "id": "S3LL93jXOhy_"
   },
   "source": [
    "\n",
    "\n",
    "---\n",
    "\n",
    "---\n",
    "\n",
    "---\n",
    "\n",
    "\n",
    "\n",
    "\n",
    "\n"
   ]
  },
  {
   "cell_type": "markdown",
   "metadata": {
    "id": "4XeDGxGoJUMD"
   },
   "source": [
    "#Dataset Example - 3\n",
    "\n",
    "\n",
    "---\n",
    "\n",
    "\n"
   ]
  },
  {
   "cell_type": "markdown",
   "metadata": {
    "id": "omUegPvzNY-n"
   },
   "source": [
    "### Importing Libraries\n",
    " - Pandas for reading data file\n",
    " - Numpy for performing statistical calculations \n",
    " - Matplotlib and seaborn for visualization \n",
    " - Scipy.stats for Skewness and Kurtosis"
   ]
  },
  {
   "cell_type": "code",
   "execution_count": null,
   "metadata": {
    "id": "KhhAVU31NY-n"
   },
   "outputs": [],
   "source": [
    "import pandas as pd \n",
    "import numpy as np\n",
    "import matplotlib.pyplot as plt\n",
    "import seaborn as sb\n",
    "from scipy.stats import skew\n",
    "from scipy.stats import kurtosis"
   ]
  },
  {
   "cell_type": "markdown",
   "metadata": {
    "id": "BVBJPCGsNY-o"
   },
   "source": [
    "- To see all the columns which are present in the dataset"
   ]
  },
  {
   "cell_type": "code",
   "execution_count": null,
   "metadata": {
    "id": "gONxF5kENY-o"
   },
   "outputs": [],
   "source": [
    "pd.set_option(\"display.max_columns\",None)#To see all the columns which are present in the dataset"
   ]
  },
  {
   "cell_type": "markdown",
   "metadata": {
    "id": "yFw3ZnThNY-o"
   },
   "source": [
    "### Reading dataset\n",
    "- df is dataframe .\n",
    "- pd.read_excel reads the excel file.\n",
    "- head Function prints the first five rows of the dataset."
   ]
  },
  {
   "cell_type": "markdown",
   "metadata": {
    "id": "oj0EoaC5NY-o"
   },
   "source": [
    "### Description of data\n",
    "- Data belongs to student category which contains **fname** , **age** and **gender** column.\n",
    "- **Fname** contins the name of students, **age** column contains the age of the students and **grade** column contains the marks obtained. "
   ]
  },
  {
   "cell_type": "code",
   "execution_count": null,
   "metadata": {
    "id": "4CNdKgVxNY-o",
    "outputId": "8bc25e82-c026-4f9e-be4a-ebac87bb7d7a"
   },
   "outputs": [
    {
     "data": {
      "text/html": [
       "<div>\n",
       "<style scoped>\n",
       "    .dataframe tbody tr th:only-of-type {\n",
       "        vertical-align: middle;\n",
       "    }\n",
       "\n",
       "    .dataframe tbody tr th {\n",
       "        vertical-align: top;\n",
       "    }\n",
       "\n",
       "    .dataframe thead th {\n",
       "        text-align: right;\n",
       "    }\n",
       "</style>\n",
       "<table border=\"1\" class=\"dataframe\">\n",
       "  <thead>\n",
       "    <tr style=\"text-align: right;\">\n",
       "      <th></th>\n",
       "      <th>fname</th>\n",
       "      <th>age</th>\n",
       "      <th>grade</th>\n",
       "    </tr>\n",
       "  </thead>\n",
       "  <tbody>\n",
       "    <tr>\n",
       "      <th>0</th>\n",
       "      <td>Baker</td>\n",
       "      <td>14</td>\n",
       "      <td>90</td>\n",
       "    </tr>\n",
       "    <tr>\n",
       "      <th>1</th>\n",
       "      <td>Josephine</td>\n",
       "      <td>19</td>\n",
       "      <td>100</td>\n",
       "    </tr>\n",
       "    <tr>\n",
       "      <th>2</th>\n",
       "      <td>Calvin</td>\n",
       "      <td>15</td>\n",
       "      <td>66</td>\n",
       "    </tr>\n",
       "    <tr>\n",
       "      <th>3</th>\n",
       "      <td>Aretha</td>\n",
       "      <td>17</td>\n",
       "      <td>84</td>\n",
       "    </tr>\n",
       "    <tr>\n",
       "      <th>4</th>\n",
       "      <td>Britanney</td>\n",
       "      <td>19</td>\n",
       "      <td>66</td>\n",
       "    </tr>\n",
       "  </tbody>\n",
       "</table>\n",
       "</div>"
      ],
      "text/plain": [
       "       fname  age  grade\n",
       "0      Baker   14     90\n",
       "1  Josephine   19    100\n",
       "2     Calvin   15     66\n",
       "3     Aretha   17     84\n",
       "4  Britanney   19     66"
      ]
     },
     "execution_count": 3,
     "metadata": {
      "tags": []
     },
     "output_type": "execute_result"
    }
   ],
   "source": [
    "df=pd.read_excel(\"data1.xlsx\")\n",
    "df.head()"
   ]
  },
  {
   "cell_type": "markdown",
   "metadata": {
    "id": "lij67E6iNY-p"
   },
   "source": [
    "### Measures of Central Tendency\n",
    "- **Mean**\n",
    "    - The sum of a collection of numbers divided by the count of numbers in the collection.\n",
    "- **Median** \n",
    "    - The median is the value separating the higher half from the lower half of a data sample, a population, or a probability distribution. \n",
    "- **Mode**\n",
    "    - The mode is the value that appears most often in a set of data values."
   ]
  },
  {
   "cell_type": "markdown",
   "metadata": {
    "id": "U43hcaYsNY-p"
   },
   "source": [
    " \n"
   ]
  },
  {
   "cell_type": "markdown",
   "metadata": {
    "id": "juycEXtlNY-p"
   },
   "source": []
  },
  {
   "cell_type": "code",
   "execution_count": null,
   "metadata": {
    "id": "K07KhumLNY-q",
    "outputId": "8537efbd-0ee2-40b4-dc71-8ed690f29294"
   },
   "outputs": [
    {
     "name": "stdout",
     "output_type": "stream",
     "text": [
      "*Mean of columns age and grade*\n",
      "age      16.28\n",
      "grade    82.79\n",
      "dtype: float64\n",
      "*Median of columns age and grade*\n",
      "age      16.0\n",
      "grade    81.5\n",
      "dtype: float64\n",
      "*Mode of columns age and grade*\n",
      "  fname  age  grade\n",
      "0  Emma   14     69\n"
     ]
    }
   ],
   "source": [
    "df_mean=df.mean()\n",
    "print(\"*Mean of columns age and grade*\")\n",
    "print(df_mean)\n",
    "df_median=df.median()\n",
    "print(\"*Median of columns age and grade*\")\n",
    "print(df_median)\n",
    "df_mode=df.mode()\n",
    "print(\"*Mode of columns age and grade*\")\n",
    "print(df_mode)"
   ]
  },
  {
   "cell_type": "markdown",
   "metadata": {
    "id": "wTg9TLsvNY-q"
   },
   "source": [
    "#### Measures of Variability \n",
    "- **Standard Deviation**\n",
    "    - The standard deviation is a measure of the amount of variation or dispersion of a set of values.\n",
    "- **Variance**\n",
    "    - The term variance refers to a statistical measurement of the spread between numbers in a data set.\n",
    "- **Min and Max Variables**\n",
    "    - Min is the minimum value in the column or in dataset.\n",
    "    - Max is the maximum value in the column or in dataset.\n"
   ]
  },
  {
   "cell_type": "markdown",
   "metadata": {
    "id": "JPzjppDFNY-r"
   },
   "source": []
  },
  {
   "cell_type": "code",
   "execution_count": null,
   "metadata": {
    "id": "WQ1WiTjMNY-r",
    "outputId": "66c61067-5070-4885-ace9-1a7f12b5a8c3"
   },
   "outputs": [
    {
     "name": "stdout",
     "output_type": "stream",
     "text": [
      "Standard deviation of columns age and grade\n",
      "age       1.752804\n",
      "grade    10.915928\n",
      "dtype: float64\n",
      "Variance of columns age and grade  \n",
      "age        3.072323\n",
      "grade    119.157475\n",
      "dtype: float64\n",
      "The Minimum value are\n",
      "fname    Adrienne\n",
      "age            14\n",
      "grade          65\n",
      "dtype: object\n",
      "The Maximum value are\n",
      "fname    Zia\n",
      "age       19\n",
      "grade    100\n",
      "dtype: object\n"
     ]
    }
   ],
   "source": [
    "print(\"Standard deviation of columns age and grade\")\n",
    "print(df.std())\n",
    "print(\"Variance of columns age and grade  \")\n",
    "print(df.var())\n",
    "print(\"The Minimum value are\" )\n",
    "print(df.min())\n",
    "print(\"The Maximum value are\" )\n",
    "print(df.max())"
   ]
  },
  {
   "cell_type": "markdown",
   "metadata": {
    "id": "BUsa_eKRNY-r"
   },
   "source": [
    "- **Skewness and Kurtosis**\n",
    "    - **Skewness** is a measure of the symmetry of a distribution. The highest point of a distribution is its mode.\n",
    "    - **Kurtosis** is a statistical measure that defines how heavily the tails of a distribution differ from the tails of a normal distribution."
   ]
  },
  {
   "cell_type": "markdown",
   "metadata": {
    "id": "3M6EQZtHNY-r"
   },
   "source": []
  },
  {
   "cell_type": "code",
   "execution_count": null,
   "metadata": {
    "id": "5zawd2uINY-r",
    "outputId": "0ab400f3-b1fa-42bb-c4b1-4123cc995a84"
   },
   "outputs": [
    {
     "name": "stdout",
     "output_type": "stream",
     "text": [
      "The skewness of column age is :  0.1891005591179678\n",
      "The skewness of column grade is :  0.0923141826958847\n"
     ]
    }
   ],
   "source": [
    "age_skew=skew(df[\"age\"])\n",
    "grade_skew=skew(df[\"grade\"])\n",
    "print(\"The skewness of column age is : \",age_skew)\n",
    "print(\"The skewness of column grade is : \",grade_skew)"
   ]
  },
  {
   "cell_type": "code",
   "execution_count": null,
   "metadata": {
    "id": "lThYHQ2kNY-r",
    "outputId": "5e9b021d-2b21-4e33-9f39-6ca598d58477"
   },
   "outputs": [
    {
     "name": "stdout",
     "output_type": "stream",
     "text": [
      "The kurtosis of column age is  -1.2143532529876444\n",
      "The kurtosis of column grade is  -1.3309524922789433\n"
     ]
    }
   ],
   "source": [
    "age_kurtosis=kurtosis(df[\"age\"])\n",
    "print(\"The kurtosis of column age is \",age_kurtosis)\n",
    "grade_kurtosis=kurtosis(df[\"grade\"])\n",
    "print(\"The kurtosis of column grade is \",grade_kurtosis)"
   ]
  },
  {
   "cell_type": "markdown",
   "metadata": {
    "id": "M6YH85GGNY-s"
   },
   "source": [
    "- **Range**\n",
    "    - The Range is the difference between the lowest and highest values. \n",
    "- Given that the range can easily be computed with information on the maximum and minimum value of the data set.\n",
    "- Users requiring only a rough indication of the data may prefer to use this indicator over more sophisticated measures of spread. "
   ]
  },
  {
   "cell_type": "code",
   "execution_count": null,
   "metadata": {
    "id": "qKZ-QxuENY-s",
    "outputId": "d039b708-576b-4b87-ed0a-e14060a9eee7"
   },
   "outputs": [
    {
     "name": "stdout",
     "output_type": "stream",
     "text": [
      "The range of column age is : 5\n"
     ]
    }
   ],
   "source": [
    "age_range=(df[\"age\"].max())-(df[\"age\"].min())\n",
    "print(\"The range of column age is :\",age_range)"
   ]
  },
  {
   "cell_type": "code",
   "execution_count": null,
   "metadata": {
    "id": "VObzKU9UNY-s",
    "outputId": "534f576b-21a4-412d-fe14-93ae926dabfe"
   },
   "outputs": [
    {
     "name": "stdout",
     "output_type": "stream",
     "text": [
      "The range of column grade is : 35\n"
     ]
    }
   ],
   "source": [
    "grade_range=(df[\"grade\"].max())-(df[\"grade\"].min())\n",
    "print(\"The range of column grade is :\",grade_range)"
   ]
  },
  {
   "cell_type": "markdown",
   "metadata": {
    "id": "Pdayeh2iNY-s"
   },
   "source": [
    "- **Percentiles/Quartiles**\n",
    "    - A **percentile** is a measure at which that percentage of the total values are the same as or below that measure. For example, 90% of the data values lie below the 90th percentile, whereas 10% of the data values lie below the 10th percentile.\n",
    "    - **Quartiles** are values that divide a (part of a) data table into four groups containing an approximately equal number of observations. The total of 100% is split into four equal parts: 25%, 50%, 75% and 100%.\n",
    "\n",
    "- Percentiles are used to understand and interpret data. \n",
    "- Quartiles are used to summarize a group of numbers. "
   ]
  },
  {
   "cell_type": "code",
   "execution_count": null,
   "metadata": {
    "id": "mz0rQ1FpNY-s",
    "outputId": "60664dda-9ad5-4e3d-dc38-9ff9b5a95ee9"
   },
   "outputs": [
    {
     "name": "stdout",
     "output_type": "stream",
     "text": [
      "50th percentile of age column is: 16.0\n",
      "25th percentile of age column is: 15.0\n",
      "75th percentile of age column is: 18.0\n"
     ]
    }
   ],
   "source": [
    "print(\"50th percentile of age column is:\",np.percentile(df[\"age\"],50))\n",
    "print(\"25th percentile of age column is:\",np.percentile(df[\"age\"],25))\n",
    "print(\"75th percentile of age column is:\",np.percentile(df[\"age\"],75))"
   ]
  },
  {
   "cell_type": "code",
   "execution_count": null,
   "metadata": {
    "id": "mFU-Qu27NY-s",
    "outputId": "96d51092-730c-4bbb-ff29-4a8a2c2f7886"
   },
   "outputs": [
    {
     "name": "stdout",
     "output_type": "stream",
     "text": [
      "50th percentile of grade column is: 81.5\n",
      "25th percentile of grade column is: 73.0\n",
      "75th percentile of grade column is: 92.0\n"
     ]
    }
   ],
   "source": [
    "print(\"50th percentile of grade column is:\",np.percentile(df[\"grade\"],50))\n",
    "print(\"25th percentile of grade column is:\",np.percentile(df[\"grade\"],25))\n",
    "print(\"75th percentile of grade column is:\",np.percentile(df[\"grade\"],75))"
   ]
  },
  {
   "cell_type": "code",
   "execution_count": null,
   "metadata": {
    "id": "JKokVDiANY-t",
    "outputId": "635b2539-a1f0-43c3-88c5-71a49ff40b84"
   },
   "outputs": [
    {
     "name": "stdout",
     "output_type": "stream",
     "text": [
      "Q2th quantile of age column is :  16.0\n",
      "Q1th quantile of age column is :  15.0\n",
      "Q3th quantile of age column is :  18.0\n"
     ]
    }
   ],
   "source": [
    "print(\"Q2th quantile of age column is : \",np.quantile(df[\"age\"],.50))\n",
    "print(\"Q1th quantile of age column is : \",np.quantile(df[\"age\"],.25))\n",
    "print(\"Q3th quantile of age column is : \",np.quantile(df[\"age\"],.75))"
   ]
  },
  {
   "cell_type": "code",
   "execution_count": null,
   "metadata": {
    "id": "TPgW1ADtNY-t",
    "outputId": "f770665f-03d7-4bb1-8ac0-80aa7dcc0b27"
   },
   "outputs": [
    {
     "name": "stdout",
     "output_type": "stream",
     "text": [
      "Q2 quantile of grade column is :  81.5\n",
      "Q1th quantile of grade column is :  73.0\n",
      "Q3 quantile of grade column is :  92.0\n"
     ]
    }
   ],
   "source": [
    "print(\"Q2 quantile of grade column is : \",np.quantile(df[\"grade\"],.50))\n",
    "print(\"Q1th quantile of grade column is : \",np.quantile(df[\"grade\"],.25))\n",
    "print(\"Q3 quantile of grade column is : \",np.quantile(df[\"grade\"],.75))"
   ]
  },
  {
   "cell_type": "markdown",
   "metadata": {
    "id": "pswbXTihNY-t"
   },
   "source": [
    "- **Box Plots**\n",
    "    - A box and whisker plot (sometimes called a boxplot) is a graph that presents information from a five-number summary. \n",
    "    - Lowest observation\n",
    "    - Highest observation\n",
    "    - Lower Quartile\n",
    "    - Upper Quartile \n",
    "    - Median "
   ]
  },
  {
   "cell_type": "code",
   "execution_count": null,
   "metadata": {
    "id": "caC6jafqNY-t",
    "outputId": "7dd26101-6e8a-4b87-8a22-13ed10375890"
   },
   "outputs": [
    {
     "data": {
      "image/png": "[encoded data removed]",
      "text/plain": [
       "<Figure size 432x288 with 2 Axes>"
      ]
     },
     "metadata": {
      "needs_background": "light",
      "tags": []
     },
     "output_type": "display_data"
    }
   ],
   "source": [
    "plt.figure()\n",
    "plt.subplot(1,2,1)\n",
    "df.boxplot(column=\"age\")\n",
    "plt.subplot(1,2,2)\n",
    "df.boxplot(column=\"grade\")\n",
    "plt.show()"
   ]
  },
  {
   "cell_type": "markdown",
   "metadata": {
    "id": "hcj0KOY-OdwR"
   },
   "source": [
    "\n",
    "\n",
    "---\n",
    "\n",
    "---\n",
    "\n",
    "---\n",
    "\n",
    "\n",
    "\n",
    "\n",
    "\n"
   ]
  },
  {
   "cell_type": "markdown",
   "metadata": {
    "id": "IaKgSYmfJUkm"
   },
   "source": [
    "#Dataset Example - 4\n",
    "\n",
    "\n",
    "---\n",
    "\n",
    "\n"
   ]
  },
  {
   "cell_type": "markdown",
   "metadata": {
    "id": "ChIN7NQ9pT_7"
   },
   "source": [
    "**Importing packages**"
   ]
  },
  {
   "cell_type": "markdown",
   "metadata": {
    "id": "9yvAVj7ebUkP"
   },
   "source": [
    "Importing packages that are needed in python to perform  statistical operations \n",
    "<br>\n",
    "<br>\n",
    "* numpy- \n",
    "It is a library for the Python programming language, adding support for large, multi-dimensional arrays and matrices, along with a large collection of high-level mathematical functions to operate on these arrays.\n",
    "<br>\n",
    "\n",
    "* pandas-\n",
    "pandas is a software library written for the Python programming language for data manipulation and analysis. In particular, it offers data structures and operations for manipulating numerical tables and time series.\n",
    "<br>\n",
    "\n",
    "*   seaborn- Seaborn is a Python data visualization library based on matplotlib. It provides a high-level interface for drawing attractive and informative statistical graphics.\n",
    "<br>\n",
    "\n",
    "*   Scipy.stats- It is a module contains a large number of probability distributions as well as a growing library of statistical functions.\n",
    "\n",
    "\n",
    "\n",
    "\n",
    "\n",
    "\n",
    "\n"
   ]
  },
  {
   "cell_type": "code",
   "execution_count": null,
   "metadata": {
    "id": "A2PAxiOppc4t"
   },
   "outputs": [],
   "source": [
    "import numpy as np\n",
    "import pandas as pd\n",
    "import seaborn as sns\n",
    "import scipy.stats as stats\n",
    "pd.set_option(\"display.max_columns\",None)"
   ]
  },
  {
   "cell_type": "markdown",
   "metadata": {
    "id": "QFSBembVMbw0"
   },
   "source": [
    "\n",
    "\n",
    "---\n",
    "\n",
    "\n",
    "\n",
    "\n",
    "\n"
   ]
  },
  {
   "cell_type": "markdown",
   "metadata": {
    "id": "JpsIPciOqHFf"
   },
   "source": [
    "**Importing Dataset**"
   ]
  },
  {
   "cell_type": "markdown",
   "metadata": {
    "id": "Wo-bGU7uMxr_"
   },
   "source": [
    "Mounting Google Drive locally and reading LaptopDS.csv to a dataframe then displaying its basic info using df.info()\n",
    "<br>\n",
    "<br>\n",
    "LaptopDS.csv -\n",
    "\n",
    "It is a dataset which contains 205 entries of latpops based on their model name and specification.This dataset has combined information of diffrent laptops so that it can be used in analysis by or can be used by customers to identify which laptops meets their requirements.\n",
    "\n",
    "It contains 8 columns as brand(brand of the laptop), laptop_name(Model name of the laptop),display_size(Screen display size), processor_type(processor model name), graphics_card(graphic card model name), disk_space(size of disk and its type), discount_price(discounted price), price(orignal price) and ratings_5max(rating from 0 to 5).    \n"
   ]
  },
  {
   "cell_type": "code",
   "execution_count": null,
   "metadata": {
    "colab": {
     "base_uri": "https://localhost:8080/"
    },
    "id": "jymqC3fzqQAv",
    "outputId": "88600513-0975-47f3-e3c9-437144a29a3f"
   },
   "outputs": [
    {
     "name": "stdout",
     "output_type": "stream",
     "text": [
      "/root\n",
      "Drive already mounted at /content/gdrive; to attempt to forcibly remount, call drive.mount(\"/content/gdrive\", force_remount=True).\n"
     ]
    }
   ],
   "source": [
    "%cd\n",
    "from google.colab import drive\n",
    "drive.mount('/content/gdrive')"
   ]
  },
  {
   "cell_type": "code",
   "execution_count": null,
   "metadata": {
    "colab": {
     "base_uri": "https://localhost:8080/"
    },
    "id": "MOEEA4XTrAcj",
    "outputId": "471ab196-f292-4593-e181-15d4d4a6d6ef"
   },
   "outputs": [
    {
     "name": "stdout",
     "output_type": "stream",
     "text": [
      "Dataset On Laptop specedication based on brands : - \n",
      "       brand                       laptop_name  display_size  \\\n",
      "0        HP              Notebook 14-df0008nx          14.0   \n",
      "1    Lenovo                IdeaPad 330S-14IKB          14.0   \n",
      "2    Huawei                  MateBook D Volta          14.0   \n",
      "3      Dell                  Inspiron 15 3567          15.6   \n",
      "4      Asus                VivoBook 15 X510UR          15.6   \n",
      "..      ...                               ...           ...   \n",
      "200  Lenovo               IdeaPad 320-15IKBRN          15.6   \n",
      "201  Huawei                        MateBook D          15.6   \n",
      "202   Apple  MacBook Pro (Retina + Touch Bar)          15.4   \n",
      "203   Apple  MacBook Pro (Retina + Touch Bar)          15.4   \n",
      "204    Dell                  Inspiron 15 3576          15.6   \n",
      "\n",
      "            processor_type                  graphics_card  \\\n",
      "0      Intel Celeron N4000          Intel HD Graphics 600   \n",
      "1      Intel Core i5-8250U         Intel UHD Graphics 620   \n",
      "2      Intel Core i5-8250U    NVIDIA GeForce MX150 (2 GB)   \n",
      "3      Intel Core i3-7020U          Intel HD Graphics 620   \n",
      "4      Intel Core i7-8550U    NVIDIA GeForce 930MX (2 GB)   \n",
      "..                     ...                            ...   \n",
      "200    Intel Core i5-8250U                   Intel GMA HD   \n",
      "201    Intel Core i7-8550U    NVIDIA GeForce MX150 (2 GB)   \n",
      "202   Intel Core i7 6 Core   Radeon Pro 555X GDDR5 (4 GB)   \n",
      "203   Intel Core i7 6 Core   Radeon Pro 560X GDDR5 (4 GB)   \n",
      "204    Intel Core i5-8250U          AMD Radeon 520 (2 GB)   \n",
      "\n",
      "               disk_space  discount_price    price ratings_5max  \n",
      "0            64 GB (eMMC)          1259.0   1259.0        0 / 5  \n",
      "1                1 TB HDD          1849.0   2099.0      3.3 / 5  \n",
      "2              256 GB SSD          2999.0   3799.0        0 / 5  \n",
      "3                1 TB HDD          1849.0   1849.0        0 / 5  \n",
      "4                1 TB HDD          2499.0   3149.0        0 / 5  \n",
      "..                    ...             ...      ...          ...  \n",
      "200              1 TB HDD          2099.0   2099.0      3.8 / 5  \n",
      "201   128 GB SSD/1 TB HDD          3299.0   3299.0      4.0 / 5  \n",
      "202            256 GB SSD         10199.0  10199.0        0 / 5  \n",
      "203            512 GB SSD         11899.0  11899.0      4.4 / 5  \n",
      "204              1 TB HDD          2299.0   2299.0        0 / 5  \n",
      "\n",
      "[205 rows x 9 columns]\n"
     ]
    }
   ],
   "source": [
    "df=pd.read_csv('/content/gdrive/MyDrive/DS/LaptopsDS.csv')\n",
    "print(\"Dataset On Laptop specedication based on brands : - \\n\",df)"
   ]
  },
  {
   "cell_type": "code",
   "execution_count": null,
   "metadata": {
    "colab": {
     "base_uri": "https://localhost:8080/"
    },
    "id": "m30cG9SpwOeC",
    "outputId": "48fd872a-beab-4b79-9c3f-44999e9ce225"
   },
   "outputs": [
    {
     "name": "stdout",
     "output_type": "stream",
     "text": [
      "<class 'pandas.core.frame.DataFrame'>\n",
      "RangeIndex: 205 entries, 0 to 204\n",
      "Data columns (total 9 columns):\n",
      " #   Column          Non-Null Count  Dtype  \n",
      "---  ------          --------------  -----  \n",
      " 0   brand           205 non-null    object \n",
      " 1   laptop_name     204 non-null    object \n",
      " 2   display_size    205 non-null    float64\n",
      " 3   processor_type  205 non-null    object \n",
      " 4   graphics_card   205 non-null    object \n",
      " 5   disk_space      205 non-null    object \n",
      " 6   discount_price  205 non-null    float64\n",
      " 7   price           205 non-null    float64\n",
      " 8   ratings_5max    205 non-null    object \n",
      "dtypes: float64(3), object(6)\n",
      "memory usage: 14.5+ KB\n"
     ]
    }
   ],
   "source": [
    "df.info()"
   ]
  },
  {
   "cell_type": "markdown",
   "metadata": {
    "id": "7wTrHjtkMh2P"
   },
   "source": [
    "\n",
    "\n",
    "---\n",
    "\n",
    "\n",
    "\n",
    "\n",
    "\n"
   ]
  },
  {
   "cell_type": "markdown",
   "metadata": {
    "id": "zjcrHyRH1cE3"
   },
   "source": [
    " **Measures of Central Tendency**\n",
    "\n"
   ]
  },
  {
   "cell_type": "markdown",
   "metadata": {
    "id": "V2uobqAiftXc"
   },
   "source": [
    "central tendency is a central or typical value for a probability distribution. It may also be called a center or location of the distribution.\n",
    "<br>\n",
    "<br>\n",
    "\n",
    "\n",
    "Use of central tendency statistical model- \n",
    "\n",
    "\n",
    "*   A statistical model is a mathematical model that embodies a set of statistical assumptions concerning the generation of sample data (and similar data from a larger population).\n",
    "*   The central tendency is dependent on the analysis of concentration of the values of observations in an distribution.\n",
    "*   In statistical sense, this statement is said to be the concentration of n items in Xi variable.\n",
    "*   The study of central  are essential dimensions in understanding the distributional characteristics of a series/variable. \n",
    "*   For example, the two sets of daily rainfall for the months of April and May 2004 in Cherrapunji have same magnitude of average rainfall (a most familiar measure of central tendency) called mean while the ranges of distribution (a difference of maximum and minimum value of data –series) are different as it vary from 0 to 492.2 mm in the month of April and from 0 to 327.6mm in the month of May. \n",
    "*   It shows different degree of dispersion despite the same value of their mean. So the nature of these two distributions is different from each other showing differences in distributions.\n",
    "\n",
    "\n",
    "The 3 most common measures of central tendency are the mean, median and mode.\n",
    "\n",
    "\n",
    "\n",
    "\n",
    "\n",
    "\n"
   ]
  },
  {
   "cell_type": "markdown",
   "metadata": {
    "id": "j1OVEXgefIm9"
   },
   "source": [
    "\n",
    "\n",
    "---\n",
    "\n"
   ]
  },
  {
   "cell_type": "markdown",
   "metadata": {
    "id": "5EP2lAcG3ftE"
   },
   "source": [
    "**Mean**\n",
    "\n",
    "\n"
   ]
  },
  {
   "cell_type": "markdown",
   "metadata": {
    "id": "_WYvKjWPWMm9"
   },
   "source": [
    "\n",
    "*   It is sum of all values divided by number of values( average )\n",
    "*   df.mean() Returns the mean of the values over the requested axis.\n",
    "*   Using it on the data set LaptopDS.csv returned mean of all the column of numeric type in the dataset.\n",
    "*   The data that are returned are showing the display_size, price and the discount price that the most of the laptops have. \n",
    "\n",
    "\n",
    "\n",
    "\n",
    "\n"
   ]
  },
  {
   "cell_type": "code",
   "execution_count": null,
   "metadata": {
    "colab": {
     "base_uri": "https://localhost:8080/"
    },
    "id": "YySwHnL_cbZn",
    "outputId": "9dc0258c-9c75-494a-c74e-d5efb0c6d61e"
   },
   "outputs": [
    {
     "name": "stdout",
     "output_type": "stream",
     "text": [
      "Mean of numeric columns-\n",
      " display_size        14.579805\n",
      "discount_price    3812.550976\n",
      "price             4040.355854\n",
      "dtype: float64\n"
     ]
    }
   ],
   "source": [
    "print('Mean of numeric columns-\\n',df.mean())"
   ]
  },
  {
   "cell_type": "markdown",
   "metadata": {
    "id": "uT4TnzexfJ_G"
   },
   "source": [
    "\n",
    "\n",
    "---\n",
    "\n"
   ]
  },
  {
   "cell_type": "markdown",
   "metadata": {
    "id": "OCvG5lgCEzqU"
   },
   "source": [
    "**Trimmed Mean**"
   ]
  },
  {
   "cell_type": "markdown",
   "metadata": {
    "id": "ktcbsUioZcI_"
   },
   "source": [
    "\n",
    "\n",
    "*   It is similar to mean except here we exclude the smallest and largest values in our data set.\n",
    "*   Calculated by the average of all values after dropping a fixed number of extreme values. \n",
    "*   The use of a trimmed mean helps eliminate the influence of outliers or data points on the tails that may unfairly affect the traditional mean. \n",
    "*   Here we are calculating the 10 % trimmed mean of the columns display_size, price and discount.\n",
    "\n",
    "\n"
   ]
  },
  {
   "cell_type": "code",
   "execution_count": null,
   "metadata": {
    "colab": {
     "base_uri": "https://localhost:8080/"
    },
    "id": "wgLbzAAPEy1P",
    "outputId": "9b115394-0df2-4744-bb0a-51de5c112e37"
   },
   "outputs": [
    {
     "name": "stdout",
     "output_type": "stream",
     "text": [
      "Trimmed Mean of the column display_size =  14.584606060606058\n",
      "Trimmed Mean of the column price =  3756.7454545454543\n",
      "Trimmed Mean of the column discount_price =  3508.018181818182\n"
     ]
    }
   ],
   "source": [
    "print('Trimmed Mean of the column display_size = ',stats.trim_mean(df['display_size'],0.1))\n",
    "print('Trimmed Mean of the column price = ',stats.trim_mean(df['price'],0.1))\n",
    "print('Trimmed Mean of the column discount_price = ',stats.trim_mean(df['discount_price'],0.1))"
   ]
  },
  {
   "cell_type": "markdown",
   "metadata": {
    "id": "2EMLC9azfLZp"
   },
   "source": [
    "\n",
    "\n",
    "---\n",
    "\n"
   ]
  },
  {
   "cell_type": "markdown",
   "metadata": {
    "id": "POkZQ7qpFWPc"
   },
   "source": [
    "**Weighted Mean**"
   ]
  },
  {
   "cell_type": "markdown",
   "metadata": {
    "id": "YtS2SN5-cHkQ"
   },
   "source": [
    "* It is similar to mean except weights are used to balance the observation\n",
    "* calculated by the sum of all values times a weight divided by the sum of the weights.\n",
    "*   It is used when we consider some data values to be more important than other values and so we want them to contribute more to the final \"average\". \n",
    "* np.average() is used to Compute the weighted average along the specified axis.\n",
    "*    Here we are calculating the Weightedmean where weights are shifted by 10 of the columns display_size, price and discount.\n",
    "\n",
    "\n"
   ]
  },
  {
   "cell_type": "code",
   "execution_count": null,
   "metadata": {
    "colab": {
     "base_uri": "https://localhost:8080/"
    },
    "id": "g-wnVeYMFdj0",
    "outputId": "cd2b71f3-1fca-449f-9d51-e68632134810"
   },
   "outputs": [
    {
     "name": "stdout",
     "output_type": "stream",
     "text": [
      "Weighted Mean of the column display_size =  14.676464285714285\n",
      "Weighted Mean of the column price =  4115.339146341464\n",
      "Weighted Mean of the column discount_price =  3975.319111498258\n"
     ]
    }
   ],
   "source": [
    "weights=[i for i in range(10,215)]\n",
    "print('Weighted Mean of the column display_size = ',np.average(df['display_size'],weights=weights))\n",
    "print('Weighted Mean of the column price = ',np.average(df['price'],weights=weights))\n",
    "print('Weighted Mean of the column discount_price = ',np.average(df['discount_price'],weights=weights))"
   ]
  },
  {
   "cell_type": "markdown",
   "metadata": {
    "id": "2bLaAa67fMpS"
   },
   "source": [
    "\n",
    "\n",
    "---\n",
    "\n"
   ]
  },
  {
   "cell_type": "markdown",
   "metadata": {
    "id": "X31qaW94Dj9R"
   },
   "source": [
    "**Median**"
   ]
  },
  {
   "cell_type": "markdown",
   "metadata": {
    "id": "P7a_CEt4jK7C"
   },
   "source": [
    "\n",
    "*   It is the value such that one-half of the data lies above and below. \n",
    "*   df.median() Return the median of the values over the requested axis.\n",
    "*   Using it on the data set LaptopDS.csv returned median of all the column of numeric type in the dataset \n",
    "*   The data that are returned are showing  middle values of column the display_size, price and the discount price. \n",
    "\n"
   ]
  },
  {
   "cell_type": "code",
   "execution_count": null,
   "metadata": {
    "colab": {
     "base_uri": "https://localhost:8080/"
    },
    "id": "DhaaYqHd3jfe",
    "outputId": "0de7adc9-3b4d-4b56-b629-e0ea888bec30"
   },
   "outputs": [
    {
     "name": "stdout",
     "output_type": "stream",
     "text": [
      "Median of column display_size =  14.0\n",
      "Median of column discount_price =  3149.0\n",
      "Median of column price =  3299.0\n"
     ]
    }
   ],
   "source": [
    "print('Median of numeric columns-\\n',df.median())"
   ]
  },
  {
   "cell_type": "markdown",
   "metadata": {
    "id": "Cu3Mi7_pfNr3"
   },
   "source": [
    "\n",
    "\n",
    "---\n",
    "\n"
   ]
  },
  {
   "cell_type": "markdown",
   "metadata": {
    "id": "dXiurFC_DpGH"
   },
   "source": [
    "**Mode**"
   ]
  },
  {
   "cell_type": "markdown",
   "metadata": {
    "id": "sBqBRi46jLnB"
   },
   "source": [
    "*   It is the value that frequenty occurs.\n",
    "*   df.mode() Returns The mode of a set of values is the value that appears most often. It can have multiple values.\n"
   ]
  },
  {
   "cell_type": "code",
   "execution_count": null,
   "metadata": {
    "colab": {
     "base_uri": "https://localhost:8080/"
    },
    "id": "jbg9Sd3sexv6",
    "outputId": "ba89c416-e932-4bd7-fa43-0915e49ad230"
   },
   "outputs": [
    {
     "name": "stdout",
     "output_type": "stream",
     "text": [
      "\n",
      "Mode of column brand -\n",
      " 0    HP\n",
      "dtype: object\n",
      "\n",
      "Mode of column laptop_name -\n",
      " 0    MacBook Pro (Retina + Touch Bar)\n",
      "dtype: object\n",
      "\n",
      "Mode of column display_size -\n",
      " 0    15.6\n",
      "dtype: float64\n",
      "\n",
      "Mode of column processor_type -\n",
      " 0     Intel Core i5-8250U\n",
      "dtype: object\n",
      "\n",
      "Mode of column graphics_card -\n",
      " 0     NVIDIA GeForce MX150 (2 GB)\n",
      "dtype: object\n",
      "\n",
      "Mode of column disk_space -\n",
      " 0     1 TB HDD\n",
      "dtype: object\n",
      "\n",
      "Mode of column discount_price -\n",
      " 0    2299.0\n",
      "1    3599.0\n",
      "dtype: float64\n",
      "\n",
      "Mode of column price -\n",
      " 0    3149.0\n",
      "dtype: float64\n",
      "\n",
      "Mode of column ratings_5max -\n",
      " 0    0 / 5\n",
      "dtype: object\n"
     ]
    }
   ],
   "source": [
    "for i in df.columns:\n",
    "  print(\"\\nMode of column \"+i+\" -\\n\",df[i].mode())"
   ]
  },
  {
   "cell_type": "markdown",
   "metadata": {
    "id": "PF0IsvWBMoSB"
   },
   "source": [
    "\n",
    "---\n"
   ]
  },
  {
   "cell_type": "markdown",
   "metadata": {
    "id": "sJKIW05Do7G8"
   },
   "source": [
    "**Measures of Variability**"
   ]
  },
  {
   "cell_type": "markdown",
   "metadata": {
    "id": "KMGNrRyyqODv"
   },
   "source": [
    "*  A measure of variability is a summary statistic that represents the amount of dispersion in a dataset i.e How spread out are the values.\n",
    "* Analysts frequently use the mean to summarize the center of a population or a process. \n",
    "* When a distribution has lower variability, the values in a dataset are more consistent. \n",
    "*However, when the variability is higher, the data points are more dissimilar and extreme values become more likely. \n",
    "* Consequently, understanding variability helps us grasp the likelihood of unusual events.\n",
    "* following are the most common Measure of variablity \n"
   ]
  },
  {
   "cell_type": "markdown",
   "metadata": {
    "id": "XAcVexxjfP9w"
   },
   "source": [
    "\n",
    "\n",
    "---\n",
    "\n"
   ]
  },
  {
   "cell_type": "markdown",
   "metadata": {
    "id": "9MBqSx2gEHBS"
   },
   "source": [
    "**Standard Deviation**"
   ]
  },
  {
   "cell_type": "markdown",
   "metadata": {
    "id": "rfyXhD1btNy2"
   },
   "source": [
    "*   A standard deviation is a statistic that measures the dispersion of a dataset relative to its mean and is calculated as the square root of the variance.\n",
    "*   Standard deviation is an especially useful tool in investing and trading strategies as it helps measure market and security volatility and predict performance trends. \n",
    "* As it relates to investing, for example, an index fund is likely to have a low standard deviation versus its benchmark index, as the fund's goal is to replicate the index.\n",
    "* df.std() Return sample standard deviation over requested axis.\n"
   ]
  },
  {
   "cell_type": "code",
   "execution_count": null,
   "metadata": {
    "colab": {
     "base_uri": "https://localhost:8080/"
    },
    "id": "AcHB0_NnoLo9",
    "outputId": "a8c9f1a1-d5c6-445a-c36b-950a5526f31c"
   },
   "outputs": [
    {
     "name": "stdout",
     "output_type": "stream",
     "text": [
      "standard deviation of numeric columns - \n",
      " display_size         1.109458\n",
      "discount_price    2308.702005\n",
      "price             2327.147396\n",
      "dtype: float64\n"
     ]
    }
   ],
   "source": [
    "print('standard deviation of numeric columns - \\n',df.std())"
   ]
  },
  {
   "cell_type": "markdown",
   "metadata": {
    "id": "GQYETtW-fRFY"
   },
   "source": [
    "\n",
    "\n",
    "---\n",
    "\n"
   ]
  },
  {
   "cell_type": "markdown",
   "metadata": {
    "id": "TOxFx9UOFPZW"
   },
   "source": [
    "**Variance**"
   ]
  },
  {
   "cell_type": "markdown",
   "metadata": {
    "id": "NdLEi3_SxGAJ"
   },
   "source": [
    "*  The term variance refers to a statistical measurement of the spread between numbers in a data set. \n",
    "*  More specifically, variance measures how far each number in the set is from the mean and thus from every other number in the set.\n",
    "*  Statisticians use variance to see how individual numbers relate to each other within a data set, rather than using broader mathematical techniques such as arranging numbers into quartiles. \n",
    "* The advantage of variance is that it treats all deviations from the mean the same regardless of their direction. \n",
    "* The squared deviations cannot sum to zero and give the appearance of no variability at all in the data. \n",
    "* One drawback to variance, though, is that it gives added weight to outliers. These are the numbers that are far from the mean.  \n",
    "* df.var() Return unbiased variance over requested axis."
   ]
  },
  {
   "cell_type": "code",
   "execution_count": null,
   "metadata": {
    "colab": {
     "base_uri": "https://localhost:8080/"
    },
    "id": "FSPeIPqNFZp3",
    "outputId": "da5a5a97-e8ec-480f-83a2-2f9f384fe652"
   },
   "outputs": [
    {
     "name": "stdout",
     "output_type": "stream",
     "text": [
      "variance of numeric columns - \n",
      " display_size      1.230898e+00\n",
      "discount_price    5.330105e+06\n",
      "price             5.415615e+06\n",
      "dtype: float64\n"
     ]
    }
   ],
   "source": [
    "print('variance of numeric columns - \\n',df.var())"
   ]
  },
  {
   "cell_type": "markdown",
   "metadata": {
    "id": "TpNcfFMxfSF1"
   },
   "source": [
    "\n",
    "\n",
    "---\n",
    "\n"
   ]
  },
  {
   "cell_type": "markdown",
   "metadata": {
    "id": "F0rNTBLEGQdw"
   },
   "source": [
    "**Min and Max Variables**\n"
   ]
  },
  {
   "cell_type": "markdown",
   "metadata": {
    "id": "EoOJdbNsFmvi"
   },
   "source": [
    "* df.min() Returns the minimum of the values over the requested axis.\n",
    "* df.max() Returns the maximum of the values over the requested axis.\n",
    "* Using it in LaptopDS.csv returns minimum and maximum values of all columns."
   ]
  },
  {
   "cell_type": "code",
   "execution_count": null,
   "metadata": {
    "colab": {
     "base_uri": "https://localhost:8080/"
    },
    "id": "EB-270zcFmru",
    "outputId": "42d255d6-01db-4493-a8f8-d30e77679e2d"
   },
   "outputs": [
    {
     "name": "stdout",
     "output_type": "stream",
     "text": [
      "\n",
      "Min variables of numeric columns -\n",
      " brand                               Acer\n",
      "display_size                          12\n",
      "processor_type               AMD A9-9425\n",
      "graphics_card      AMD Radeon 520 (2 GB)\n",
      "disk_space                      1 TB HDD\n",
      "discount_price                       899\n",
      "price                                999\n",
      "ratings_5max                       0 / 5\n",
      "dtype: object\n",
      "\n",
      "Max variables of numeric columns -\n",
      "  brand                                 Microsoft\n",
      "display_size                               18.4\n",
      "processor_type                    Intel Core i9\n",
      "graphics_card      Radeon Pro 560X GDDR5 (4 GB)\n",
      "disk_space          8 GB (Cache Flash)/1 TB HDD\n",
      "discount_price                            12499\n",
      "price                                     12499\n",
      "ratings_5max                            5.0 / 5\n",
      "dtype: object\n"
     ]
    }
   ],
   "source": [
    "print('\\nMin variables of all columns -\\n',df.min())\n",
    "print('\\nMax variables of all columns -\\n ',df.max())"
   ]
  },
  {
   "cell_type": "markdown",
   "metadata": {
    "id": "RYdp2_D8fTDm"
   },
   "source": [
    "\n",
    "\n",
    "---\n",
    "\n"
   ]
  },
  {
   "cell_type": "markdown",
   "metadata": {
    "id": "nFbR3_zUIJO_"
   },
   "source": [
    "**Skewness**"
   ]
  },
  {
   "cell_type": "markdown",
   "metadata": {
    "id": "okuEPhUoNWdy"
   },
   "source": [
    "* In probability theory and statistics, skewness is a measure of the asymmetry of the probability distribution of a real-valued random variable about its mean. \n",
    "* The skewness value can be positive, zero, negative, or undefined.\n",
    "* For a unimodal distribution, negative skew commonly indicates that the tail is on the left side of the distribution, and positive skew indicates that the tail is on the right. \n",
    "* df.skew() return unbiased skew over requested axis."
   ]
  },
  {
   "cell_type": "code",
   "execution_count": null,
   "metadata": {
    "colab": {
     "base_uri": "https://localhost:8080/"
    },
    "id": "vbV95AtjIPsJ",
    "outputId": "deee779d-197c-412e-8624-8766a19b35cd"
   },
   "outputs": [
    {
     "name": "stdout",
     "output_type": "stream",
     "text": [
      "Skewness of numeric columns - \n",
      " display_size      0.178277\n",
      "discount_price    1.239832\n",
      "price             1.163004\n",
      "dtype: float64\n"
     ]
    }
   ],
   "source": [
    "print('Skewness of numeric columns - \\n',df.skew())"
   ]
  },
  {
   "cell_type": "markdown",
   "metadata": {
    "id": "5bSEXJadfUWh"
   },
   "source": [
    "\n",
    "\n",
    "---\n",
    "\n"
   ]
  },
  {
   "cell_type": "markdown",
   "metadata": {
    "id": "8z8wMGNPNAsS"
   },
   "source": [
    "**Kurtosis**"
   ]
  },
  {
   "cell_type": "markdown",
   "metadata": {
    "id": "uVOwg2-sODDA"
   },
   "source": [
    "* In probability theory and statistics, kurtosis is a measure of the \"tailedness\" of the probability distribution of a real-valued random variable.\n",
    "* Like skewness, kurtosis describes the shape of a probability distribution and there are different ways of quantifying it for a theoretical distribution and corresponding ways of estimating it from a sample from a population.\n",
    "* df.kurtosis() Returns unbiased kurtosis over requested axis.\n",
    "* df.kurtosis() computes the Fisher's Kurtosis which is obtained by subtracting the Pearson's Kurtosis by three. With Fisher's Kurtosis, definition a normal distribution has a kurtosis of 0."
   ]
  },
  {
   "cell_type": "code",
   "execution_count": null,
   "metadata": {
    "colab": {
     "base_uri": "https://localhost:8080/"
    },
    "id": "JaD_LU1VLBba",
    "outputId": "8aee4bb2-af85-48fd-a4e4-7ae063589e97"
   },
   "outputs": [
    {
     "name": "stdout",
     "output_type": "stream",
     "text": [
      "kurtosis of numeric columns - \n",
      " display_size     -0.650084\n",
      "discount_price    1.377946\n",
      "price             1.279941\n",
      "dtype: float64\n"
     ]
    }
   ],
   "source": [
    "print('kurtosis of numeric columns - \\n',df.kurtosis())"
   ]
  },
  {
   "cell_type": "markdown",
   "metadata": {
    "id": "k3uU9OmOfV3Z"
   },
   "source": [
    "\n",
    "\n",
    "---\n",
    "\n"
   ]
  },
  {
   "cell_type": "markdown",
   "metadata": {
    "id": "foMRmYPrNW4Y"
   },
   "source": [
    "**Range**"
   ]
  },
  {
   "cell_type": "markdown",
   "metadata": {
    "id": "chbWNdsNPwW2"
   },
   "source": [
    "*    Range is the difference between the lowest and highest values.\n",
    "*   It is calculated by max-min value of a column.\n",
    "* It is a good way to get a very basic understanding of how spread out numbers in the data set really are because it is easy to calculate as it only requires a basic arithmetic operation, but there are also a few other applications of the range of a data set in statistics.\n",
    "\n"
   ]
  },
  {
   "cell_type": "code",
   "execution_count": null,
   "metadata": {
    "colab": {
     "base_uri": "https://localhost:8080/"
    },
    "id": "-c4Y3PVMMywQ",
    "outputId": "de82d350-9dd3-44c4-ee53-6adc4d9eef79"
   },
   "outputs": [
    {
     "name": "stdout",
     "output_type": "stream",
     "text": [
      "Range of the column display_size =  6.399999999999999\n",
      "Range of the column price =  11500.0\n",
      "Range of the column discount_price =  11600.0\n"
     ]
    }
   ],
   "source": [
    "print('Range of the column display_size = ',df['display_size'].max()-df['display_size'].min())\n",
    "print('Range of the column price = ',df['price'].max()-df['price'].min())\n",
    "print('Range of the column discount_price = ',df['discount_price'].max()-df['discount_price'].min())"
   ]
  },
  {
   "cell_type": "markdown",
   "metadata": {
    "id": "7uk8a78WfWng"
   },
   "source": [
    "\n",
    "\n",
    "---\n",
    "\n"
   ]
  },
  {
   "cell_type": "markdown",
   "metadata": {
    "id": "5-lZdAyWRkIU"
   },
   "source": [
    "**Percentile**"
   ]
  },
  {
   "cell_type": "markdown",
   "metadata": {
    "id": "BsjNlq-rRy_d"
   },
   "source": [
    "* percentile is a term used in statistics to express how a score compares to other scores in the same set. \n",
    "* While there is technically no standard definition of percentile, it's typically communicated as the percentage of values that fall below a particular value in a set of data scores.\n",
    "* In statistics, a percentile is a score below which a given percentage of scores in its frequency distribution fall or a score at or below which a given percentage fall.\n",
    "*  For example, the 50th percentile (the median) is the score below which 50% (exclusive) or at or below which (inclusive) 50% of the scores in the distribution may be found.\n",
    "* np.percentile() Returns the q-th percentile(s) of the array elements."
   ]
  },
  {
   "cell_type": "code",
   "execution_count": null,
   "metadata": {
    "colab": {
     "base_uri": "https://localhost:8080/"
    },
    "id": "_xNWofHoURSs",
    "outputId": "afc5d028-f4a9-4e89-c3d2-1b01b9f2316f"
   },
   "outputs": [
    {
     "name": "stdout",
     "output_type": "stream",
     "text": [
      "\n",
      "Percentile summary-\n",
      "\n",
      "\n",
      "10th Percentile of the column display_size =  13.3\n",
      "50th Percentile(medain) of the display_size =  14.0\n",
      "90th Percentile of the column display_size =  15.599999999999998\n",
      "\n",
      "\n",
      "10th Percentile of the column price =  1719.0\n",
      "50th Percentile(medain) of the column price =  3299.0\n",
      "90th Percentile of the column price =  6999.0\n",
      "\n",
      "\n",
      "10th Percentile of the column discount_price =  1499.0\n",
      "50th Percentile(medain) of the column discount_price =  3149.0\n",
      "90th Percentile of the column discount_price =  6910.999999999999\n"
     ]
    }
   ],
   "source": [
    "print(\"\\nPercentile summary-\")\n",
    "print('\\n\\n10th Percentile of the column display_size = ',np.percentile(df['display_size'],10))\n",
    "print('50th Percentile(medain) of the display_size = ',np.percentile(df['display_size'],50))\n",
    "print('90th Percentile of the column display_size = ',np.percentile(df['display_size'],90))\n",
    "print('\\n\\n10th Percentile of the column price = ',np.percentile(df['price'],10))\n",
    "print('50th Percentile(medain) of the column price = ',np.percentile(df['price'],50))\n",
    "print('90th Percentile of the column price = ',np.percentile(df['price'],90))\n",
    "print('\\n\\n10th Percentile of the column discount_price = ',np.percentile(df['discount_price'],10))\n",
    "print('50th Percentile(medain) of the column discount_price = ',np.percentile(df['discount_price'],50))\n",
    "print('90th Percentile of the column discount_price = ',np.percentile(df['discount_price'],90))"
   ]
  },
  {
   "cell_type": "markdown",
   "metadata": {
    "id": "WrL5UudKfX8H"
   },
   "source": [
    "\n",
    "\n",
    "---\n",
    "\n"
   ]
  },
  {
   "cell_type": "markdown",
   "metadata": {
    "id": "VVxMZE3gQqQP"
   },
   "source": [
    "**Quertiles**"
   ]
  },
  {
   "cell_type": "markdown",
   "metadata": {
    "id": "8gyRu6ePRvnd"
   },
   "source": [
    "*   In statistics, a quartile is a type of quantile which divides the number of data points into four parts, or quarters, of more-or-less equal size. \n",
    "* The data must be ordered from smallest to largest to compute quartiles\n",
    "*  The first quartile (Q1) is defined as the middle number between the smallest number (minimum) and the median of the data set. It is also known as the lower or 25th empirical quartile, as 25% of the data is below this point.\n",
    "* The second quartile (Q2) is the median of a data set; thus 50% of the data lies below this point.\n",
    "* The third quartile (Q3) is the middle value between the median and the highest value (maximum) of the data set. It is known as the upper or 75th empirical quartile, as 75% of the data lies below this point.\n",
    "* df.quantile() Returns values at the given quantile over requested axis.\n",
    "\n"
   ]
  },
  {
   "cell_type": "code",
   "execution_count": null,
   "metadata": {
    "colab": {
     "base_uri": "https://localhost:8080/"
    },
    "id": "bvkz4RhnPrqv",
    "outputId": "56648172-55db-4555-b503-de600ed93027"
   },
   "outputs": [
    {
     "name": "stdout",
     "output_type": "stream",
     "text": [
      "\n",
      "Quertile summary-\n",
      "\n",
      "25% quertile (Lower quertile) of numeric columns-\n",
      "  display_size        13.3\n",
      "discount_price    2099.0\n",
      "price             2249.0\n",
      "Name: 0.25, dtype: float64\n",
      "\n",
      "50% quertile (Middle quertile)of numeric columns-\n",
      " display_size        14.0\n",
      "discount_price    3149.0\n",
      "price             3299.0\n",
      "Name: 0.5, dtype: float64\n",
      "\n",
      "75% quertile (Upper quertile) of numeric columns-\n",
      " display_size        15.6\n",
      "discount_price    4939.0\n",
      "price             5649.0\n",
      "Name: 0.75, dtype: float64\n"
     ]
    }
   ],
   "source": [
    "print(\"\\nQuertile summary-\")\n",
    "print(\"\\n25% quertile (Lower quertile) of numeric columns-\\n \",df.quantile(q=0.25))\n",
    "print(\"\\n50% quertile (Middle quertile)of numeric columns-\\n\",df.quantile(q=0.5))\n",
    "print(\"\\n75% quertile (Upper quertile) of numeric columns-\\n\",df.quantile(q=0.75))"
   ]
  },
  {
   "cell_type": "markdown",
   "metadata": {
    "id": "l6DKbpe0fZJe"
   },
   "source": [
    "\n",
    "\n",
    "---\n",
    "\n"
   ]
  },
  {
   "cell_type": "markdown",
   "metadata": {
    "id": "oeY1FW5hTFDY"
   },
   "source": [
    "**Boxplot**"
   ]
  },
  {
   "cell_type": "markdown",
   "metadata": {
    "id": "kpnHxTo-bKEA"
   },
   "source": [
    "\n",
    "\n",
    "* A boxplot is a standardized way of displaying the distribution of data based on a five number summary (“minimum”, first quartile (Q1), median, third quartile (Q3), and “maximum”).\n",
    "* Diffrent parts of boxplot are-\n",
    "*   median (Q2/50th Percentile): the middle value of the dataset.\n",
    "* first quartile (Q1/25th Percentile): the middle number between the smallest number (not the “minimum”) and the median of the dataset.\n",
    "* third quartile (Q3/75th Percentile): the middle value between the median and the highest value (not the “maximum”) of the dataset.\n",
    "* interquartile range (IQR): 25th to the 75th percentile.\n",
    "* “maximum”: Q3 + 1.5*IQR\n",
    "* “minimum”: Q1 -1.5*IQR\n",
    "* whiskers ( the two lines outside the box that extend to the highest and lowest observations.)\n",
    "* outliers (shown as black diamond)\n",
    "*  sns.boxplot() Draws a box plot to show distributions with respect to categories.\n",
    "* The below boxplot shows us that there are some outliers in discount_price and price columns\n",
    "\n",
    "\n",
    "\n"
   ]
  },
  {
   "cell_type": "code",
   "execution_count": null,
   "metadata": {
    "colab": {
     "base_uri": "https://localhost:8080/",
     "height": 337
    },
    "id": "1UGLBiR3SVzQ",
    "outputId": "f52906e2-6d99-4a04-d9cc-24240e9ab7ae"
   },
   "outputs": [
    {
     "name": "stdout",
     "output_type": "stream",
     "text": [
      "Boxplot for all numeric columns-\n",
      "\n",
      "\n"
     ]
    },
    {
     "data": {
      "text/plain": [
       "<matplotlib.axes._subplots.AxesSubplot at 0x7fdc313a6c10>"
      ]
     },
     "execution_count": 11,
     "metadata": {
      "tags": []
     },
     "output_type": "execute_result"
    },
    {
     "data": {
      "image/png": "[encoded data removed]",
      "text/plain": [
       "<Figure size 432x288 with 1 Axes>"
      ]
     },
     "metadata": {
      "needs_background": "light",
      "tags": []
     },
     "output_type": "display_data"
    }
   ],
   "source": [
    "print(\"Boxplot for all numeric columns-\\n\\n\")\n",
    "sns.boxplot(data=df)"
   ]
  },
  {
   "cell_type": "code",
   "execution_count": null,
   "metadata": {
    "colab": {
     "base_uri": "https://localhost:8080/",
     "height": 335
    },
    "id": "29PGbpQ6T4B0",
    "outputId": "096f261b-c630-4c60-8f6d-db20d9e003ac"
   },
   "outputs": [
    {
     "name": "stdout",
     "output_type": "stream",
     "text": [
      "Boxplot for column display_size-\n",
      "\n",
      "\n"
     ]
    },
    {
     "data": {
      "text/plain": [
       "<matplotlib.axes._subplots.AxesSubplot at 0x7fdc30e46250>"
      ]
     },
     "execution_count": 12,
     "metadata": {
      "tags": []
     },
     "output_type": "execute_result"
    },
    {
     "data": {
      "image/png": "[encoded data removed]",
      "text/plain": [
       "<Figure size 432x288 with 1 Axes>"
      ]
     },
     "metadata": {
      "needs_background": "light",
      "tags": []
     },
     "output_type": "display_data"
    }
   ],
   "source": [
    "print(\"Boxplot for column display_size-\\n\\n\")\n",
    "sns.boxplot(data=df['display_size'])"
   ]
  },
  {
   "cell_type": "markdown",
   "metadata": {
    "id": "iMHAq7L5ehXo"
   },
   "source": [
    "\n",
    "\n",
    "---\n",
    "\n",
    "---\n",
    "\n",
    "---\n",
    "\n",
    "\n",
    "\n",
    "\n",
    "\n"
   ]
  },
  {
   "cell_type": "markdown",
   "metadata": {
    "id": "J1_vUvXcLH-u"
   },
   "source": [
    "#Dataset Example - 5\n",
    "\n",
    "\n",
    "---\n",
    "\n",
    "\n"
   ]
  },
  {
   "cell_type": "markdown",
   "metadata": {
    "id": "Hv8QTLNCUCRd"
   },
   "source": [
    "**Importing packages**"
   ]
  },
  {
   "cell_type": "code",
   "execution_count": null,
   "metadata": {
    "id": "5LT6TBXcP_kq"
   },
   "outputs": [],
   "source": [
    "import pandas as pd \n",
    "import numpy as np\n",
    "import matplotlib.pyplot as plt\n",
    "import seaborn as sns\n",
    "import scipy.stats as stats\n",
    "from scipy.stats import skew\n",
    "from scipy.stats import kurtosis\n",
    "pd.set_option(\"display.max_columns\",None)"
   ]
  },
  {
   "cell_type": "markdown",
   "metadata": {
    "id": "xhxga7OrUAIp"
   },
   "source": [
    "**Importing Dataset**"
   ]
  },
  {
   "cell_type": "code",
   "execution_count": null,
   "metadata": {
    "colab": {
     "base_uri": "https://localhost:8080/"
    },
    "id": "qIF01gh_QSQ3",
    "outputId": "2b93067f-b2ca-45b5-9b3f-8fded318c04d"
   },
   "outputs": [
    {
     "name": "stdout",
     "output_type": "stream",
     "text": [
      "/root\n",
      "Drive already mounted at /content/gdrive; to attempt to forcibly remount, call drive.mount(\"/content/gdrive\", force_remount=True).\n"
     ]
    }
   ],
   "source": [
    "%cd\n",
    "from google.colab import drive\n",
    "drive.mount('/content/gdrive')"
   ]
  },
  {
   "cell_type": "code",
   "execution_count": null,
   "metadata": {
    "colab": {
     "base_uri": "https://localhost:8080/",
     "height": 404
    },
    "id": "ekN2FN6UQSQ4",
    "outputId": "4bdadc3b-6bd1-4a82-a963-08d9c407972d"
   },
   "outputs": [
    {
     "data": {
      "text/html": [
       "<div>\n",
       "<style scoped>\n",
       "    .dataframe tbody tr th:only-of-type {\n",
       "        vertical-align: middle;\n",
       "    }\n",
       "\n",
       "    .dataframe tbody tr th {\n",
       "        vertical-align: top;\n",
       "    }\n",
       "\n",
       "    .dataframe thead th {\n",
       "        text-align: right;\n",
       "    }\n",
       "</style>\n",
       "<table border=\"1\" class=\"dataframe\">\n",
       "  <thead>\n",
       "    <tr style=\"text-align: right;\">\n",
       "      <th></th>\n",
       "      <th>SepalLength</th>\n",
       "      <th>SepalWidth</th>\n",
       "      <th>PetalLength</th>\n",
       "      <th>PetalWidth</th>\n",
       "      <th>species</th>\n",
       "    </tr>\n",
       "  </thead>\n",
       "  <tbody>\n",
       "    <tr>\n",
       "      <th>0</th>\n",
       "      <td>5.1</td>\n",
       "      <td>3.5</td>\n",
       "      <td>1.4</td>\n",
       "      <td>0.2</td>\n",
       "      <td>Iris-setosa</td>\n",
       "    </tr>\n",
       "    <tr>\n",
       "      <th>1</th>\n",
       "      <td>4.9</td>\n",
       "      <td>3.0</td>\n",
       "      <td>1.4</td>\n",
       "      <td>0.2</td>\n",
       "      <td>Iris-setosa</td>\n",
       "    </tr>\n",
       "    <tr>\n",
       "      <th>2</th>\n",
       "      <td>4.7</td>\n",
       "      <td>3.2</td>\n",
       "      <td>1.3</td>\n",
       "      <td>0.2</td>\n",
       "      <td>Iris-setosa</td>\n",
       "    </tr>\n",
       "    <tr>\n",
       "      <th>3</th>\n",
       "      <td>4.6</td>\n",
       "      <td>3.1</td>\n",
       "      <td>1.5</td>\n",
       "      <td>0.2</td>\n",
       "      <td>Iris-setosa</td>\n",
       "    </tr>\n",
       "    <tr>\n",
       "      <th>4</th>\n",
       "      <td>5.0</td>\n",
       "      <td>3.6</td>\n",
       "      <td>1.4</td>\n",
       "      <td>0.2</td>\n",
       "      <td>Iris-setosa</td>\n",
       "    </tr>\n",
       "    <tr>\n",
       "      <th>...</th>\n",
       "      <td>...</td>\n",
       "      <td>...</td>\n",
       "      <td>...</td>\n",
       "      <td>...</td>\n",
       "      <td>...</td>\n",
       "    </tr>\n",
       "    <tr>\n",
       "      <th>141</th>\n",
       "      <td>6.7</td>\n",
       "      <td>3.0</td>\n",
       "      <td>5.2</td>\n",
       "      <td>2.3</td>\n",
       "      <td>Iris-virginica</td>\n",
       "    </tr>\n",
       "    <tr>\n",
       "      <th>142</th>\n",
       "      <td>6.3</td>\n",
       "      <td>2.5</td>\n",
       "      <td>5.0</td>\n",
       "      <td>1.9</td>\n",
       "      <td>Iris-virginica</td>\n",
       "    </tr>\n",
       "    <tr>\n",
       "      <th>143</th>\n",
       "      <td>6.5</td>\n",
       "      <td>3.0</td>\n",
       "      <td>5.2</td>\n",
       "      <td>2.0</td>\n",
       "      <td>Iris-virginica</td>\n",
       "    </tr>\n",
       "    <tr>\n",
       "      <th>144</th>\n",
       "      <td>6.2</td>\n",
       "      <td>3.4</td>\n",
       "      <td>5.4</td>\n",
       "      <td>2.3</td>\n",
       "      <td>Iris-virginica</td>\n",
       "    </tr>\n",
       "    <tr>\n",
       "      <th>145</th>\n",
       "      <td>5.9</td>\n",
       "      <td>3.0</td>\n",
       "      <td>5.1</td>\n",
       "      <td>1.8</td>\n",
       "      <td>Iris-virginica</td>\n",
       "    </tr>\n",
       "  </tbody>\n",
       "</table>\n",
       "<p>146 rows × 5 columns</p>\n",
       "</div>"
      ],
      "text/plain": [
       "     SepalLength  SepalWidth  PetalLength  PetalWidth           species\n",
       "0            5.1         3.5          1.4         0.2       Iris-setosa\n",
       "1            4.9         3.0          1.4         0.2       Iris-setosa\n",
       "2            4.7         3.2          1.3         0.2       Iris-setosa\n",
       "3            4.6         3.1          1.5         0.2       Iris-setosa\n",
       "4            5.0         3.6          1.4         0.2       Iris-setosa\n",
       "..           ...         ...          ...         ...               ...\n",
       "141          6.7         3.0          5.2         2.3    Iris-virginica\n",
       "142          6.3         2.5          5.0         1.9    Iris-virginica\n",
       "143          6.5         3.0          5.2         2.0    Iris-virginica\n",
       "144          6.2         3.4          5.4         2.3  Iris-virginica  \n",
       "145          5.9         3.0          5.1         1.8  Iris-virginica  \n",
       "\n",
       "[146 rows x 5 columns]"
      ]
     },
     "execution_count": 35,
     "metadata": {
      "tags": []
     },
     "output_type": "execute_result"
    }
   ],
   "source": [
    "df=pd.read_excel('/content/gdrive/MyDrive/DS/iris.xlsx')\n",
    "df"
   ]
  },
  {
   "cell_type": "markdown",
   "metadata": {
    "id": "_VvmLD_4To-o"
   },
   "source": [
    " **Measures of Central Tendency**\n",
    "\n"
   ]
  },
  {
   "cell_type": "markdown",
   "metadata": {
    "id": "DyP-vYYdT191"
   },
   "source": [
    "**Mean**\n",
    "\n",
    "\n"
   ]
  },
  {
   "cell_type": "code",
   "execution_count": null,
   "metadata": {
    "colab": {
     "base_uri": "https://localhost:8080/"
    },
    "id": "ajKH2VcpT4_Y",
    "outputId": "16e8bdb4-4fe6-4bf7-c0ea-3735900b6eaf"
   },
   "outputs": [
    {
     "name": "stdout",
     "output_type": "stream",
     "text": [
      "Mean of numeric columns-\n",
      " SepalLength    5.790411\n",
      "SepalWidth     3.019863\n",
      "PetalLength    3.734390\n",
      "PetalWidth     1.186986\n",
      "dtype: float64\n"
     ]
    }
   ],
   "source": [
    "print('Mean of numeric columns-\\n',df.mean())"
   ]
  },
  {
   "cell_type": "markdown",
   "metadata": {
    "id": "qJgK3cnfUGM3"
   },
   "source": [
    "**Trimmed Mean**"
   ]
  },
  {
   "cell_type": "code",
   "execution_count": null,
   "metadata": {
    "colab": {
     "base_uri": "https://localhost:8080/"
    },
    "id": "vo9qluETUIYU",
    "outputId": "e3a02f9b-39df-4a78-855b-361a4b14743b"
   },
   "outputs": [
    {
     "name": "stdout",
     "output_type": "stream",
     "text": [
      "Trimmed Mean of the column SepalLength =  5.786440677966102\n",
      "Trimmed Mean of the column SepalWidth =  3.020338983050847\n",
      "Trimmed Mean of the column PetalLength =  3.741703389830509\n",
      "Trimmed Mean of the column PetalWidth =  1.1737288135593218\n"
     ]
    }
   ],
   "source": [
    "print('Trimmed Mean of the column SepalLength = ',stats.trim_mean(df['SepalLength'],0.1))\n",
    "print('Trimmed Mean of the column SepalWidth = ',stats.trim_mean(df['SepalWidth'],0.1))\n",
    "print('Trimmed Mean of the column PetalLength = ',stats.trim_mean(df['PetalLength'],0.1))\n",
    "print('Trimmed Mean of the column PetalWidth = ',stats.trim_mean(df['PetalWidth'],0.1))"
   ]
  },
  {
   "cell_type": "markdown",
   "metadata": {
    "id": "DUTD6UdVXOWL"
   },
   "source": [
    "**Weighted Mean**"
   ]
  },
  {
   "cell_type": "code",
   "execution_count": null,
   "metadata": {
    "colab": {
     "base_uri": "https://localhost:8080/"
    },
    "id": "dGfGCrLJXS1T",
    "outputId": "9254695d-f793-4645-b12c-ec59273ff313"
   },
   "outputs": [
    {
     "name": "stdout",
     "output_type": "stream",
     "text": [
      "Weighted Mean of the column SepalLength =  6.122681610626816\n",
      "Weighted Mean of the column SepalWidth =  2.9513408053134076\n",
      "Weighted Mean of the column PetalLength =  4.533803652968037\n",
      "Weighted Mean of the column PetalWidth =  1.5370029057700292\n"
     ]
    }
   ],
   "source": [
    "weights=[i for i in range(10,156)]\n",
    "print('Weighted Mean of the column SepalLength = ',np.average(df['SepalLength'],weights=weights))\n",
    "print('Weighted Mean of the column SepalWidth = ',np.average(df['SepalWidth'],weights=weights))\n",
    "print('Weighted Mean of the column PetalLength = ',np.average(df['PetalLength'],weights=weights))\n",
    "print('Weighted Mean of the column PetalWidth = ',np.average(df['PetalWidth'],weights=weights))"
   ]
  },
  {
   "cell_type": "markdown",
   "metadata": {
    "id": "vIVUsp6aaYk1"
   },
   "source": [
    "**Median**"
   ]
  },
  {
   "cell_type": "code",
   "execution_count": null,
   "metadata": {
    "colab": {
     "base_uri": "https://localhost:8080/"
    },
    "id": "ntANSTSSabIf",
    "outputId": "77585fab-a97b-4a50-e051-d509b133eaf0"
   },
   "outputs": [
    {
     "name": "stdout",
     "output_type": "stream",
     "text": [
      "Median of numeric columns-\n",
      " SepalLength    5.8\n",
      "SepalWidth     3.0\n",
      "PetalLength    4.3\n",
      "PetalWidth     1.3\n",
      "dtype: float64\n"
     ]
    }
   ],
   "source": [
    "print('Median of numeric columns-\\n',df.median())"
   ]
  },
  {
   "cell_type": "markdown",
   "metadata": {
    "id": "1oCiaZc7af4d"
   },
   "source": [
    "**Mode**"
   ]
  },
  {
   "cell_type": "code",
   "execution_count": null,
   "metadata": {
    "colab": {
     "base_uri": "https://localhost:8080/"
    },
    "id": "Hj6myujualJB",
    "outputId": "f05dd285-523d-40f6-e805-8baa9ae66bb1"
   },
   "outputs": [
    {
     "name": "stdout",
     "output_type": "stream",
     "text": [
      "\n",
      "Mode of column SepalLength -\n",
      " 0    5.0\n",
      "1    5.1\n",
      "2    6.3\n",
      "dtype: float64\n",
      "\n",
      "Mode of column SepalWidth -\n",
      " 0    3.0\n",
      "dtype: float64\n",
      "\n",
      "Mode of column PetalLength -\n",
      " 0    1.5\n",
      "dtype: float64\n",
      "\n",
      "Mode of column PetalWidth -\n",
      " 0    0.2\n",
      "dtype: float64\n",
      "\n",
      "Mode of column species -\n",
      " 0    Iris-setosa\n",
      "dtype: object\n"
     ]
    }
   ],
   "source": [
    "for i in df.columns:\n",
    "  print(\"\\nMode of column \"+i+\" -\\n\",df[i].mode())"
   ]
  },
  {
   "cell_type": "markdown",
   "metadata": {
    "id": "wyYwOTNhatwD"
   },
   "source": [
    "**Measures of Variability**"
   ]
  },
  {
   "cell_type": "markdown",
   "metadata": {
    "id": "jsOM7m8faw01"
   },
   "source": [
    "**Standard Deviation**"
   ]
  },
  {
   "cell_type": "code",
   "execution_count": null,
   "metadata": {
    "colab": {
     "base_uri": "https://localhost:8080/"
    },
    "id": "cqhufiTnwKjB",
    "outputId": "5ad6fa43-d901-4c7d-83f9-aef751007d81"
   },
   "outputs": [
    {
     "name": "stdout",
     "output_type": "stream",
     "text": [
      "Standard deviation of columns SepalLength, SepalWidth, PetalLength and PetalWidth \n",
      "SepalLength    0.951900\n",
      "SepalWidth     0.498635\n",
      "PetalLength    1.777466\n",
      "PetalWidth     0.761963\n",
      "dtype: float64\n"
     ]
    }
   ],
   "source": [
    "print(\"Standard deviation of columns SepalLength, SepalWidth, PetalLength and PetalWidth \")\n",
    "print(df.std())"
   ]
  },
  {
   "cell_type": "markdown",
   "metadata": {
    "id": "VFrUdXkyay32"
   },
   "source": [
    "**Variance**"
   ]
  },
  {
   "cell_type": "code",
   "execution_count": null,
   "metadata": {
    "colab": {
     "base_uri": "https://localhost:8080/"
    },
    "id": "a083Y-GTbwBJ",
    "outputId": "d5a9ff3f-ffba-4a08-d69b-55e1e5588d52"
   },
   "outputs": [
    {
     "name": "stdout",
     "output_type": "stream",
     "text": [
      "Variance of columns SepalLength, SepalWidth, PetalLength and PetalWidth  \n",
      "SepalLength    0.906114\n",
      "SepalWidth     0.248637\n",
      "PetalLength    3.159386\n",
      "PetalWidth     0.580588\n",
      "dtype: float64\n"
     ]
    }
   ],
   "source": [
    "print(\"Variance of columns SepalLength, SepalWidth, PetalLength and PetalWidth  \")\n",
    "print(df.var())"
   ]
  },
  {
   "cell_type": "markdown",
   "metadata": {
    "id": "B0YNLonwa0j4"
   },
   "source": [
    "**Min and Max Variables**\n"
   ]
  },
  {
   "cell_type": "code",
   "execution_count": null,
   "metadata": {
    "colab": {
     "base_uri": "https://localhost:8080/"
    },
    "id": "qizKX3hvb0Jn",
    "outputId": "f7902e28-2ffd-486c-d57b-b8d540027b55"
   },
   "outputs": [
    {
     "name": "stdout",
     "output_type": "stream",
     "text": [
      "The Minimum value are\n",
      "SepalLength                  0\n",
      "SepalWidth                   0\n",
      "PetalLength                  0\n",
      "PetalWidth                   0\n",
      "species        IRIS-VERSICOLOR\n",
      "dtype: object\n",
      "The Maximum value are\n",
      "SepalLength       7.9\n",
      "SepalWidth        4.4\n",
      "PetalLength       6.9\n",
      "PetalWidth        2.5\n",
      "species        setosa\n",
      "dtype: object\n"
     ]
    }
   ],
   "source": [
    "print(\"The Minimum value are\" )\n",
    "print(df.min())\n",
    "print(\"The Maximum value are\" )\n",
    "print(df.max())"
   ]
  },
  {
   "cell_type": "markdown",
   "metadata": {
    "id": "cgy_ihcJa3Bs"
   },
   "source": [
    "**Skewness**"
   ]
  },
  {
   "cell_type": "code",
   "execution_count": null,
   "metadata": {
    "colab": {
     "base_uri": "https://localhost:8080/"
    },
    "id": "LmL4mocmwKjC",
    "outputId": "e8600528-cb75-4c65-b7ff-08729a0d0a30"
   },
   "outputs": [
    {
     "name": "stdout",
     "output_type": "stream",
     "text": [
      "The skewness of column SepalLength is :  -1.2515477210397683\n",
      "The skewness of column SepalWidth is :  -1.2041348306576325\n",
      "The skewness of column PetalLength is :  -0.2827664375692608\n",
      "The skewness of column PetalWidth is :  -0.10721755066546522\n"
     ]
    }
   ],
   "source": [
    "SepalLength_skew=skew(df[\"SepalLength\"])\n",
    "SepalWidth_skew=skew(df[\"SepalWidth\"])\n",
    "PetalLength_skew=skew(df[\"PetalLength\"])\n",
    "PetalWidth_skew=skew(df[\"PetalWidth\"])\n",
    "print(\"The skewness of column SepalLength is : \",SepalLength_skew)\n",
    "print(\"The skewness of column SepalWidth is : \",SepalWidth_skew)\n",
    "print(\"The skewness of column PetalLength is : \",PetalLength_skew)\n",
    "print(\"The skewness of column PetalWidth is : \",PetalWidth_skew)"
   ]
  },
  {
   "cell_type": "markdown",
   "metadata": {
    "id": "QO7-8GMQa4n5"
   },
   "source": [
    "**Kurtosis**"
   ]
  },
  {
   "cell_type": "code",
   "execution_count": null,
   "metadata": {
    "colab": {
     "base_uri": "https://localhost:8080/"
    },
    "id": "OVEwuZ4nwKjD",
    "outputId": "fe1e8ff3-4abe-4078-81bc-b734d09494c7"
   },
   "outputs": [
    {
     "name": "stdout",
     "output_type": "stream",
     "text": [
      "The kurtosis of column SepalLength is :  7.940546956976549\n",
      "The kurtosis of column SepalWidth is :  8.248987661959049\n",
      "The kurtosis of column PetalLength is :  -1.3471178620291377\n",
      "The kurtosis of column PetalWidth is :  -1.3401951626371529\n"
     ]
    }
   ],
   "source": [
    "SepalLength_kurtosis=kurtosis(df[\"SepalLength\"])\n",
    "SepalWidth_kurtosis=kurtosis(df[\"SepalWidth\"])\n",
    "PetalLength_kurtosis=kurtosis(df[\"PetalLength\"])\n",
    "PetalWidth_kurtosis=kurtosis(df[\"PetalWidth\"])\n",
    "print(\"The kurtosis of column SepalLength is : \",SepalLength_kurtosis)\n",
    "print(\"The kurtosis of column SepalWidth is : \",SepalWidth_kurtosis)\n",
    "print(\"The kurtosis of column PetalLength is : \",PetalLength_kurtosis)\n",
    "print(\"The kurtosis of column PetalWidth is : \",PetalWidth_kurtosis)"
   ]
  },
  {
   "cell_type": "markdown",
   "metadata": {
    "id": "WZhrZRTza7TW"
   },
   "source": [
    "**Range**"
   ]
  },
  {
   "cell_type": "code",
   "execution_count": null,
   "metadata": {
    "colab": {
     "base_uri": "https://localhost:8080/"
    },
    "id": "pytZ2u13wKjD",
    "outputId": "28e9706a-ad34-4ba0-b6ff-853b61ef50e8"
   },
   "outputs": [
    {
     "name": "stdout",
     "output_type": "stream",
     "text": [
      "The range of column SepalLength is : 7.9\n"
     ]
    }
   ],
   "source": [
    "SepalLength_range=(df[\"SepalLength\"].max())-(df[\"SepalLength\"].min())\n",
    "print(\"The range of column SepalLength is :\",SepalLength_range)"
   ]
  },
  {
   "cell_type": "code",
   "execution_count": null,
   "metadata": {
    "colab": {
     "base_uri": "https://localhost:8080/"
    },
    "id": "x8QvB4HBi6V7",
    "outputId": "43aa5697-cb24-454f-d07d-b2f37654d9c4"
   },
   "outputs": [
    {
     "name": "stdout",
     "output_type": "stream",
     "text": [
      "The range of column SepalWidth is : 4.4\n"
     ]
    }
   ],
   "source": [
    "SepalWidth_range=(df[\"SepalWidth\"].max())-(df[\"SepalWidth\"].min())\n",
    "print(\"The range of column SepalWidth is :\",SepalWidth_range)"
   ]
  },
  {
   "cell_type": "code",
   "execution_count": null,
   "metadata": {
    "colab": {
     "base_uri": "https://localhost:8080/"
    },
    "id": "QA-HCPD2i6rR",
    "outputId": "17480389-0660-4d7c-ad3f-9bfdbc72b3bb"
   },
   "outputs": [
    {
     "name": "stdout",
     "output_type": "stream",
     "text": [
      "The range of column PetalLength is : 6.9\n"
     ]
    }
   ],
   "source": [
    "PetalLength_range=(df[\"PetalLength\"].max())-(df[\"PetalLength\"].min())\n",
    "print(\"The range of column PetalLength is :\",PetalLength_range)"
   ]
  },
  {
   "cell_type": "code",
   "execution_count": null,
   "metadata": {
    "colab": {
     "base_uri": "https://localhost:8080/"
    },
    "id": "xXLjzYPqi608",
    "outputId": "67fad72e-ee8e-4156-f34f-7d04eafd26a0"
   },
   "outputs": [
    {
     "name": "stdout",
     "output_type": "stream",
     "text": [
      "The range of column PetalWidth is : 2.5\n"
     ]
    }
   ],
   "source": [
    "PetalWidth_range=(df[\"PetalWidth\"].max())-(df[\"PetalWidth\"].min())\n",
    "print(\"The range of column PetalWidth is :\",PetalWidth_range)"
   ]
  },
  {
   "cell_type": "markdown",
   "metadata": {
    "id": "mQ1HcgVJa_Wt"
   },
   "source": [
    "**Quertiles and Percentiles**"
   ]
  },
  {
   "cell_type": "code",
   "execution_count": null,
   "metadata": {
    "colab": {
     "base_uri": "https://localhost:8080/",
     "height": 286
    },
    "id": "MK9Zk_gjm7dy",
    "outputId": "e9e06fb8-496a-4ec0-d084-335b776de039"
   },
   "outputs": [
    {
     "data": {
      "text/html": [
       "<div>\n",
       "<style scoped>\n",
       "    .dataframe tbody tr th:only-of-type {\n",
       "        vertical-align: middle;\n",
       "    }\n",
       "\n",
       "    .dataframe tbody tr th {\n",
       "        vertical-align: top;\n",
       "    }\n",
       "\n",
       "    .dataframe thead th {\n",
       "        text-align: right;\n",
       "    }\n",
       "</style>\n",
       "<table border=\"1\" class=\"dataframe\">\n",
       "  <thead>\n",
       "    <tr style=\"text-align: right;\">\n",
       "      <th></th>\n",
       "      <th>SepalLength</th>\n",
       "      <th>SepalWidth</th>\n",
       "      <th>PetalLength</th>\n",
       "      <th>PetalWidth</th>\n",
       "    </tr>\n",
       "  </thead>\n",
       "  <tbody>\n",
       "    <tr>\n",
       "      <th>count</th>\n",
       "      <td>146.000000</td>\n",
       "      <td>146.000000</td>\n",
       "      <td>146.000000</td>\n",
       "      <td>146.000000</td>\n",
       "    </tr>\n",
       "    <tr>\n",
       "      <th>mean</th>\n",
       "      <td>5.790411</td>\n",
       "      <td>3.019863</td>\n",
       "      <td>3.734390</td>\n",
       "      <td>1.186986</td>\n",
       "    </tr>\n",
       "    <tr>\n",
       "      <th>std</th>\n",
       "      <td>0.951900</td>\n",
       "      <td>0.498635</td>\n",
       "      <td>1.777466</td>\n",
       "      <td>0.761963</td>\n",
       "    </tr>\n",
       "    <tr>\n",
       "      <th>min</th>\n",
       "      <td>0.000000</td>\n",
       "      <td>0.000000</td>\n",
       "      <td>0.000000</td>\n",
       "      <td>0.000000</td>\n",
       "    </tr>\n",
       "    <tr>\n",
       "      <th>25%</th>\n",
       "      <td>5.100000</td>\n",
       "      <td>2.800000</td>\n",
       "      <td>1.600000</td>\n",
       "      <td>0.300000</td>\n",
       "    </tr>\n",
       "    <tr>\n",
       "      <th>50%</th>\n",
       "      <td>5.800000</td>\n",
       "      <td>3.000000</td>\n",
       "      <td>4.300000</td>\n",
       "      <td>1.300000</td>\n",
       "    </tr>\n",
       "    <tr>\n",
       "      <th>75%</th>\n",
       "      <td>6.400000</td>\n",
       "      <td>3.300000</td>\n",
       "      <td>5.100000</td>\n",
       "      <td>1.800000</td>\n",
       "    </tr>\n",
       "    <tr>\n",
       "      <th>max</th>\n",
       "      <td>7.900000</td>\n",
       "      <td>4.400000</td>\n",
       "      <td>6.900000</td>\n",
       "      <td>2.500000</td>\n",
       "    </tr>\n",
       "  </tbody>\n",
       "</table>\n",
       "</div>"
      ],
      "text/plain": [
       "       SepalLength  SepalWidth  PetalLength  PetalWidth\n",
       "count   146.000000  146.000000   146.000000  146.000000\n",
       "mean      5.790411    3.019863     3.734390    1.186986\n",
       "std       0.951900    0.498635     1.777466    0.761963\n",
       "min       0.000000    0.000000     0.000000    0.000000\n",
       "25%       5.100000    2.800000     1.600000    0.300000\n",
       "50%       5.800000    3.000000     4.300000    1.300000\n",
       "75%       6.400000    3.300000     5.100000    1.800000\n",
       "max       7.900000    4.400000     6.900000    2.500000"
      ]
     },
     "execution_count": 88,
     "metadata": {
      "tags": []
     },
     "output_type": "execute_result"
    }
   ],
   "source": [
    "des_r = df.describe()\n",
    "des_r"
   ]
  },
  {
   "cell_type": "markdown",
   "metadata": {
    "id": "0pYHmkrUbEOd"
   },
   "source": [
    "**Boxplot**"
   ]
  },
  {
   "cell_type": "code",
   "execution_count": null,
   "metadata": {
    "colab": {
     "base_uri": "https://localhost:8080/",
     "height": 1000
    },
    "id": "jG9pjeqZkcIE",
    "outputId": "c0d47cbb-3457-4fee-b99d-6077d975ce6c"
   },
   "outputs": [
    {
     "data": {
      "image/png": "[encoded data removed]",
      "text/plain": [
       "<Figure size 432x288 with 1 Axes>"
      ]
     },
     "metadata": {
      "needs_background": "light",
      "tags": []
     },
     "output_type": "display_data"
    },
    {
     "data": {
      "image/png": "[encoded data removed]",
      "text/plain": [
       "<Figure size 432x288 with 1 Axes>"
      ]
     },
     "metadata": {
      "needs_background": "light",
      "tags": []
     },
     "output_type": "display_data"
    },
    {
     "data": {
      "image/png": "[encoded data removed]",
      "text/plain": [
       "<Figure size 432x288 with 1 Axes>"
      ]
     },
     "metadata": {
      "needs_background": "light",
      "tags": []
     },
     "output_type": "display_data"
    },
    {
     "data": {
      "image/png": "[encoded data removed]",
      "text/plain": [
       "<Figure size 432x288 with 1 Axes>"
      ]
     },
     "metadata": {
      "needs_background": "light",
      "tags": []
     },
     "output_type": "display_data"
    }
   ],
   "source": [
    "# plotting boxplots\n",
    "colNames = df.columns.tolist() # make a list of columns present in dataframes\n",
    "for colName in colNames:\n",
    "    if df[colName].dtype == \"object\" or colName == 'id': # skip Id and string columns\n",
    "        continue\n",
    "    plt.figure()\n",
    "    sns.boxplot(y=df[colName], color='g') # plot the boxplot\n",
    "    plt.title(colName) # provide title\n",
    "    plt.ylabel(colName) # name Y axis\n",
    "    plt.xlabel('Bins') # name X axis\n",
    "    plt.show()"
   ]
  }
 ],
 "metadata": {
  "colab": {
   "collapsed_sections": [],
   "name": "FDS_LAB_Practical_2_Descriptive_Statistics.ipynb",
   "provenance": []
  },
  "kernelspec": {
   "display_name": "Python 3",
   "language": "python",
   "name": "python3"
  },
  "language_info": {
   "codemirror_mode": {
    "name": "ipython",
    "version": 3
   },
   "file_extension": ".py",
   "mimetype": "text/x-python",
   "name": "python",
   "nbconvert_exporter": "python",
   "pygments_lexer": "ipython3",
   "version": "3.8.5"
  }
 },
 "nbformat": 4,
 "nbformat_minor": 1
}
